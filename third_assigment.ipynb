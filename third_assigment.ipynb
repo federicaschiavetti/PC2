{
 "cells": [
  {
   "cell_type": "markdown",
   "metadata": {},
   "source": [
    "# 1. DNA "
   ]
  },
  {
   "cell_type": "code",
   "execution_count": null,
   "metadata": {},
   "outputs": [],
   "source": [
    "DNA_seq = ('TCCGCTAAGTCGGCTCTTCAATGTTAGAAATATCCGGTCTGAGCTGAGAGCCAATATGGATGTGTCAGCCGCTCACCGAGAAAATTAGTTGTCGATAAAATGGCAATACAACCTTCAACGGGCGTCTGGCGTCAAACCTAACGCTCGCTCATTAAAATTGGGTTCCGCGAACTTTCTCAGCCATTCTATGCTATGGGTTTTCACATCCAGCCCACTCCTAGCGATCGGTGCTTGACGCACCGAAGGGAGAAACATTCTTTGTCCACCTTCTTGATTTCTATAGGACTATCCATTAAGTCTTGAACGAGAGGTAGTTGTCCTCCGATGGTTAGCTTGGGGGTGCCGAAAAGGTATTTTGGCATGATATGGTCACTGCGTAGCCCTGCAGCTCTTGCTGAGTCATGTGCCCGCGGGATATTAGGGTTTTCGGACACATAGACGAATCTGGCTAAGGTGGAGGAATCGCGTAGTTTAGTTTGCAATGATAGGTAGACCTTAAAACCGAGGCACAGAGCCTACAAGTCGAATTGGATTTACTGTCCGAAATCGATAAGTTACTTAGCGTTATTTTAAACCACCACATTCCTGTTGGTAATTAGAGGTGAACGTAGATGAGTGGTTGGGCTAGTTTTTTGGTTATCAGACGCCACCCCTGATTTTAGTCGGAACCCAACACCGACAGGCCATCCCGGCGTAAACGCTAATAGGGGGATAAACGCCTTGTTCCACGGGCCACGAATAGATTGCGCAGAATCTAGTCCCGAACACAATCGTACATGTGGCGGGCCTTGAATTTTTGTTCGCAGGCGTGGCAACCCTAACTCTTCGCCTAGGTTCATTAGTGGGGATGATCGTAAGTCAGAAGTCACACCCCCTAAGCCTACGGAGATCTGGAACCGCGGAGAAAGTGCCTCCCTAGCTACATTTTATGAATTAACCTGGGGACG')\n",
    "\n",
    "frequency = { 'A' : 0, 'T': 0,'C':  0, 'G': 0}\n",
    "for nucleotide_seq in DNA_seq:\n",
    "    frequency[nucleotide_seq] += 1\n",
    "print(frequency['A'],frequency['C'],frequency['G'],frequency['T'])"
   ]
  },
  {
   "cell_type": "markdown",
   "metadata": {},
   "source": [
    "# 2. RNA"
   ]
  },
  {
   "cell_type": "code",
   "execution_count": null,
   "metadata": {},
   "outputs": [],
   "source": [
    "DNA = ('TATTGGCCACGATCTATAAAGTCCATTCGTCAATTATCTAAGGAAACCAGTGTTGAATAGGAATTGGGTGGGTTCTCAGCGATAGATAAAACAGTGAACCGATACAGCCTTTACCCAGCCTAATCTACGCCCTGAATCTCTGACAGGCATACTCTAGAGGGATGCAATATTATAAGAGTGCTCCGGTGAAAGGCGTCGTGAGATATCTACCCATGCTGTCCCAGTTTAGAGCCTAAGATACCCCTATGAAGAGACGGGTTTCGGGGGGGCTCCGAATTACCTACTACGTACAGTTATCAACTTCTGCGAAAAAATAGCCCGGTAACGCCTAGCAGGTCTTAAATCTATGCATCCCACTTTGTCCGCAGACCAGCTCCCACACGAGGGTCCAGATAAATCTCCGCGTAAACGGACCGTTTTTCTGAGGTCAACGTCCAGGGTATTTGTGTGGTAAGGAGTCACAGGATTTATGACGAGAACTCCATAAACAGGGTAATATGACTTAAAGATTTCACGTATCGGATTCGTTTGAAGAGGATCTCAGTTCACGACCCTTGGCGTTGGCAGGAACCCGCATTGCACGCTTGCGCTCGTTCTTCGTCGTTCCAGTATTGTCGTGCTAGCAGACCTACTCACTGTCAGGGCCACGGTCAGGCACCAGATAGTTTCAAAAGATGAGTCTAAGTCGGGAATAGGAGGTCCCTGGCAAGGTTATTTGGTGATTTCGATAGGATGAACCGGGTAACCTACTCTTGGAGCGAGATAACGTGTGATCCACCTTCATGCAAATCGAGTTCTATTCGATTATCATAGTCGTGTAGCATTGCCTCTTGCTCGGGGTGGAGATCTCCTCGACGATCGTAAGGACTAGCTATTAGAAAGACCCACTCACCAGGTTCCGAAATAATTAATAAAACGTGCTCATTGTCAACCACCTTCATCCCGTGCGCAGTTGCGCCAAGCCTAATAAGTAAAGCA')\n",
    "DNA_into_RNA = DNA.replace('T','U')\n",
    "print(DNA_into_RNA)"
   ]
  },
  {
   "cell_type": "markdown",
   "metadata": {},
   "source": [
    "# 3. REVC"
   ]
  },
  {
   "cell_type": "code",
   "execution_count": null,
   "metadata": {},
   "outputs": [],
   "source": [
    "s = ('CAGGACTGTGTCGAATCTCCGCCGCATGGCTTGAGTTATAACACTTATGAAAACTTGCGTACGGCTATCTCTGCACCAGCTTTATAGGGGCCACAGCCATCGCTACATAGAGATCGCGTCCTTATTGATCCGTCCTACCACCGCCCTACTGGGTGCGCTTTCTTACCTGTCCTCCCGTATAAAGGCCAGGATAAGCCATGGAATCCGTCCTTACCGATGCCCTCTTTGCCTTTTGGCAAATACATTACGTTCAGGCCGAAGACTGAAAAAGAAATAGTTACTAGTTCGCAACATAAGGTCGGATGTCGATAAACTGAGCTTTAGTTCTTACTTACCCATAATGAGCGGCGGGCCCTGTGACAGACGTCGTCGAGTGAGGGTATCGAATTAAAAACCGACCAAAACGCGTATATGCCGCACGCAGTATCGTAGTATCTTGTCGTCGCATGGTCCGCTTTCTATGCGTATTTCGGTATCGACACCCCCACGGGCCACCATAAAGGTATACAATCGCATCTTTCTACTATACGGCTCTTAATCGGAGTTCGCGAACGTCGTTCGAACGCGAGTATGGCACCACACGCGTACCGTTCTTGACCCAAACTGGTCATTTACTGTTTATTGTCCGCGAACGGGGCTATTGCACGCTTCTCGCCTAAGGTGATGGAAGCCAGTTCAACTCGCTGCGCGAGGATAATCGGACCCTTGAGAGCGACATAGTACCATCAAAAAGCAGTGGTTTGACTGGCAAAAGAGACCCTAGATTGTCGATACCGCCAACTTAAGGTGATGGTCGCAGGCCGGACGTGTGCCTTAGGGCTATTTACATGATTCTACACCTAC')\n",
    "s_complement= []\n",
    "def reverse(dna):\n",
    "    reverse = dna[::-1]\n",
    "for i in s:\n",
    "    if i == 'T':\n",
    "        s_complement.append('A')\n",
    "    if i == 'A':\n",
    "        s_complement.append('T')\n",
    "    if i == 'C':\n",
    "        s_complement.append('G')\n",
    "    if i == 'G':\n",
    "        s_complement.append('C')\n",
    "    res=s_complement[::-1]\n",
    "print(''.join(res))"
   ]
  },
  {
   "cell_type": "markdown",
   "metadata": {},
   "source": [
    "# 4. IPRB"
   ]
  },
  {
   "cell_type": "code",
   "execution_count": null,
   "metadata": {},
   "outputs": [],
   "source": [
    "k = 29   #homozygous dominant = AA                                                   \n",
    "m = 30   #heterozygous = Aa                                                    \n",
    "n = 17   #homozygous recessive = aa                                                 \n",
    "population = k + m + n  # tree diagram\n",
    "# first calculate the probability both parents are homoz. dominant(AA)\n",
    "\n",
    "# then with Punnett Square find the probability to have dominant progeny\n",
    "P = (4*(k*(k-1)+2*k*m+2*k*n+m*n)+3*m*(m-1))/(4*population*(population-1))\n",
    "print(P)"
   ]
  },
  {
   "cell_type": "markdown",
   "metadata": {},
   "source": [
    "# 5. GC "
   ]
  },
  {
   "cell_type": "code",
   "execution_count": 52,
   "metadata": {},
   "outputs": [
    {
     "name": "stdout",
     "output_type": "stream",
     "text": [
      "Rosalind_6392\n",
      "52.32300884955752\n"
     ]
    }
   ],
   "source": [
    "f = open('rosalind_gc-3.txt', 'r')\n",
    "data = f.read()\n",
    "\n",
    "lst = data.split('>')\n",
    "res = {}\n",
    "for i in lst:\n",
    "    if len(i) > 0:\n",
    "        temp = ''.join(i[13:].split())\n",
    "        perc = ((temp.count('C') + temp.count('G'))/len(temp))*100\n",
    "        res[perc] = i[:13]\n",
    "\n",
    "print(res[max(res)])\n",
    "print(max(res))\n",
    "\n",
    "f.close()"
   ]
  },
  {
   "cell_type": "markdown",
   "metadata": {},
   "source": [
    "# 6. SUBS"
   ]
  },
  {
   "cell_type": "code",
   "execution_count": null,
   "metadata": {},
   "outputs": [],
   "source": [
    "def loc(s_t):\n",
    "    results = []\n",
    "\n",
    "    s, t = s_t.split()\n",
    "    \n",
    "    n=len(s)\n",
    "\n",
    "    for i in range(n):\n",
    "        if s[i:].startswith(t):\n",
    "            results.append(i + 1)\n",
    "\n",
    "    return results\n",
    "\n",
    "\n",
    "if __name__ == \"__main__\":\n",
    "\n",
    "    dataset = open('rosalind_subs.txt').read()\n",
    "\n",
    "    results = loc(dataset)\n",
    "\n",
    "    print (' '.join(map(str, results)))"
   ]
  },
  {
   "cell_type": "markdown",
   "metadata": {},
   "source": [
    "# 7. LIA"
   ]
  },
  {
   "cell_type": "code",
   "execution_count": null,
   "metadata": {},
   "outputs": [],
   "source": [
    "#used binomial distribution\n",
    "import math                                                                    \n",
    "k = 6                                                                          \n",
    "N = 15   \n",
    "# probability of progeny to have genotype AaBb \n",
    "P = 2**k                                                                      \n",
    "probability = 0               \n",
    "\n",
    "for i in range(N, P + 1):                                                      \n",
    "    prob = (math.factorial(P) /(math.factorial(i) * math.factorial(P - i)) )\n",
    "    pos = 0.25**i\n",
    "    neg = 0.75**(P-i)\n",
    "    res= pos*neg\n",
    "    probability += prob *res                                                    \n",
    "print(probability)"
   ]
  },
  {
   "cell_type": "markdown",
   "metadata": {},
   "source": [
    "# 8. IEV"
   ]
  },
  {
   "cell_type": "code",
   "execution_count": null,
   "metadata": {},
   "outputs": [],
   "source": [
    "# probabilities of dominant genotype\n",
    "# AA-AA = 1\n",
    "# AA-Aa = 1\n",
    "# AA-aa = 1\n",
    "# Aa-Aa = 0.75\n",
    "# Aa-aa = 0.5\n",
    "# aa-aa = 0\n",
    "probability = [1,1,1,0.75,0.5,0]\n",
    "\n",
    "def find_offspring(l):\n",
    "    pop = 1*l[0] + 1*l[1] + 1*l[2] + 0.75*l[3] + 0.5*l[4] + 0*l[5]\n",
    "    offspring = (pop) * 2\n",
    "    return offspring \n",
    "\n",
    "if __name__ == \"__main__\":\n",
    "    with open(\"rosalind_iev-2.txt\", \"r\") as f:\n",
    "        l = [float(i) for i in f.readline().strip().split(\" \")]\n",
    "    print(find_offspring(l))"
   ]
  },
  {
   "cell_type": "markdown",
   "metadata": {},
   "source": [
    "# 9. CONS\n"
   ]
  },
  {
   "cell_type": "code",
   "execution_count": 49,
   "metadata": {},
   "outputs": [
    {
     "name": "stdout",
     "output_type": "stream",
     "text": [
      "CTACGATAGTTGACTTTCGCGAGGTAGATAGCGATCAGTAAGATGGATAACGTGTTCAAACAAACTCCTCGGACAAATTAAATTTTCTGATTCGGGAACAATAAGAAACCTGCGGTTGCCGATTGAAATACGACTCAAACGATTAAAAGATGACTGGCTTATATCAGATATACTTCAGCTATATATTGAGCAGCCTCCTAACGAAAAGACAAGAAAGAGGCCCTAGTACTTGCAAGTACCATCAAGACACCAATCGCGTACATGCCGGAATTATAAGTATTCAAGCCGCAAATCACCCCATCTCAGTACCGTACAAACCTACCAGGCTTTACTCTATGTGAAATATACTCCCTGATAACACCGTATGAGCAGCAGTCTATCCACGTGAATACTTCAATTACTTCCAATACTGGTACTGCTAAGTTGGTTCGACAACCACTATGCAAAATGAAGAAAGATTTAAATATTACAATCTTGAAGTGAAACACGAAAGTATCACAACGTAGATCTATTCGAATTCGATACCCAGAGTCACAACAGTGAATGCAGAGATTCCAGGATCGCGTGATAATCAATGTAAATCTTTTTATCAAGTTTAAGGACAGTAAAATAGTGTTGGTTCGCTACGACGACATGGTCGAGAAAAGATCGGCGGGGTTTCCCATTATGAGTATCCAGGAATGAACGTTGGACAGAATTAATGCAAATTTAAGTCATATCGCGTACAAGTAGGTTAGACATATCTGAAGTTTGGCTGGAAGGACACCTAGTTCAGTATACTAAAAGACCGAAAGGTTGAGATGTAATTGACTACCGAACTTGCAATTTCAGGCAAAAATGAATCAGATTGATAGGGGGGTTAACAACTGCTCCAATTACATAATGAAAGATGTAGTTGCTCTCATGTAATTATTAGTTGATTAAACAAAAAGCAGCAGGAAATGATTTGAAGGAGACGTGGGGGCACCTATAGGCCATCCCTAATGCATACCACTT\n",
      "A: 3 3 3 2 3 5 1 4 2 3 2 2 3 3 2 2 3 2 1 0 1 5 2 0 2 6 1 3 2 3 2 2 0 3 1 1 4 1 2 4 4 3 3 2 2 2 4 1 3 3 2 2 2 1 3 1 3 4 3 4 1 5 5 6 1 3 1 1 2 3 2 2 5 1 3 5 6 2 2 3 3 4 2 2 2 1 2 2 2 4 1 2 3 1 1 2 3 4 1 3 3 2 4 3 2 4 5 4 3 2 0 1 3 1 1 1 2 2 3 2 1 3 2 0 1 3 5 3 2 4 2 1 4 0 2 2 4 3 4 0 2 5 1 1 3 3 3 3 3 6 3 2 3 2 1 2 3 1 3 1 4 0 4 2 3 3 2 5 1 6 1 5 1 1 2 2 4 2 1 2 4 2 3 2 3 1 2 2 4 2 2 4 1 1 2 1 0 2 1 4 4 2 0 4 5 5 4 0 4 2 4 4 1 5 4 4 2 4 2 2 0 3 2 2 5 3 3 4 2 1 0 1 2 6 4 2 1 5 2 2 4 1 2 3 5 2 3 1 4 2 1 4 3 2 1 1 1 2 3 5 2 4 2 2 2 1 2 1 4 5 2 3 6 2 4 4 3 2 6 0 2 1 3 4 1 3 1 3 3 3 3 6 3 0 4 2 2 3 2 4 1 3 2 3 4 3 3 3 1 3 2 3 4 3 5 4 4 2 1 1 4 3 3 3 0 1 1 2 2 2 4 0 2 1 1 3 1 2 2 2 4 4 3 2 4 2 3 2 2 0 3 3 2 0 5 2 4 5 0 4 0 3 2 2 4 2 1 3 2 2 3 2 3 4 2 1 1 1 3 2 2 2 5 1 3 2 1 6 4 0 4 1 2 2 2 4 4 1 1 4 3 3 1 2 2 7 3 2 4 1 2 2 2 3 4 3 3 1 0 2 3 4 2 0 2 2 2 1 1 1 2 3 1 5 5 0 1 4 2 2 3 3 4 2 4 3 4 6 0 3 3 4 4 4 4 5 2 3 3 2 1 3 3 4 2 3 0 1 4 3 3 4 3 2 3 3 3 5 4 0 2 1 4 3 4 2 3 1 1 4 4 3 2 0 4 3 2 4 2 4 3 2 2 3 5 2 3 2 2 2 4 1 2 1 2 3 6 1 0 2 2 4 0 5 1 1 0 4 3 3 2 3 1 4 2 5 3 2 4 1 2 2 3 5 2 1 2 5 2 3 3 3 2 1 0 3 5 2 1 3 1 3 2 3 1 3 3 4 2 4 6 1 2 5 4 1 3 1 4 4 4 3 2 3 3 0 1 2 4 1 3 4 3 3 1 2 2 4 5 2 3 3 0 5 1 1 3 3 7 4 2 5 4 2 1 2 2 1 1 1 1 2 2 1 2 4 2 2 7 2 2 5 2 4 2 2 0 2 2 2 6 1 3 6 4 3 3 6 0 1 2 2 2 1 3 1 1 2 2 2 3 0 1 4 2 2 3 1 1 4 1 2 3 2 1 4 4 3 3 3 3 4 2 3 6 0 2 2 3 1 3 4 3 5 2 3 3 2 1 4 5 2 1 3 6 4 4 1 2 2 4 3 1 2 3 4 1 4 2 1 2 2 2 0 4 1 6 5 2 2 4 2 2 1 2 4 3 4 2 3 1 4 3 2 2 1 4 5 2 1 1 2 3 2 2 4 1 0 4 4 3 1 5 0 4 3 3 1 5 2 1 1 2 5 1 1 4 1 3 3 2 4 4 4 3 2 5 2 3 3 3 4 3 2 0 1 3 2 5 0 3 2 2 0 4 4 3 3 0 4 2 3 3 0 3 1 5 4 2 2 1 1 3 3 4 2 2 0 1 5 2 1 1 4 3 4 3 3 1 2 3 3 1 2 5 0 4 1 1 2 3 1 4 1 2 2 1 0 3 2 1 3 5 0 4 3 1 3 2 2 2 1 2 3 4 1 1 3 3 4 3 3 5 1 2 3 5 3 0 5 1 2 1 5 2 2 2 3 3 4 0 2 2 3 0 2 1 5 4 1 1 3 0 0 3 3 1 2 2 5 1 1 3 5 4 1 3 3 4 3 5 1 2 3 1 2 3 2 2 3 3 3 3 3 4 2 2 1 3 3 4 2 4 3 2 3 1 2 2 2 3 2 0 1 1 4 1 3 2 4 1 4 1 1 2 2 4 2 0 2 2 2 4 4 1 2 3 3 1 5 2 2 4 2 3 2 \n",
      "C: 4 1 1 5 2 3 3 1 1 1 0 2 3 4 2 2 0 5 2 5 1 2 3 2 2 1 2 3 1 2 1 4 3 3 3 5 2 2 2 4 2 2 2 1 3 3 2 2 3 3 4 2 2 1 2 3 4 2 2 2 5 3 1 1 4 0 5 4 3 4 3 3 0 4 2 4 3 2 3 2 3 1 3 3 3 3 4 4 1 1 1 1 4 3 2 2 2 2 4 1 2 2 3 2 2 2 4 1 4 4 2 1 5 2 1 2 2 2 4 4 3 3 3 3 4 3 2 2 3 2 5 3 1 5 2 6 3 2 1 4 3 2 3 2 2 2 3 3 1 1 2 3 3 4 3 2 2 5 1 1 2 4 2 2 5 2 3 1 2 1 3 2 4 1 0 5 3 3 6 2 1 2 1 2 3 3 1 3 3 4 4 4 4 6 4 2 5 4 3 2 3 4 4 2 2 1 2 3 2 4 1 4 1 0 3 3 3 2 2 0 4 4 4 2 2 1 1 4 5 2 5 0 5 2 2 1 3 1 5 4 2 2 5 2 2 2 2 4 1 4 5 2 1 2 4 2 4 2 0 2 5 2 2 2 5 4 3 2 1 1 3 1 0 1 2 2 1 3 1 1 1 5 3 3 2 4 6 2 4 2 2 0 2 4 2 4 4 4 4 2 3 4 3 4 4 2 2 3 5 4 2 1 4 5 2 3 3 4 6 1 0 5 4 2 2 3 4 3 3 0 3 6 2 4 3 2 3 2 2 2 2 0 2 3 3 3 3 4 3 5 5 6 2 3 2 1 3 2 5 1 4 4 3 2 2 1 3 3 3 4 2 2 4 1 3 2 4 3 3 1 4 4 3 5 1 3 2 0 1 4 3 4 3 1 4 1 0 1 1 2 4 1 3 4 6 2 1 2 3 5 3 3 0 3 3 4 1 2 6 3 3 1 3 3 2 3 1 3 3 4 1 3 5 2 3 5 5 1 4 2 3 2 0 4 2 3 0 2 3 2 1 3 1 2 4 0 1 2 2 3 2 2 2 1 3 3 4 1 1 5 3 3 1 5 1 3 2 1 1 3 3 3 3 3 2 4 2 4 4 1 2 3 2 3 1 1 4 2 4 2 1 4 2 1 0 3 2 0 4 3 3 3 1 5 2 1 2 1 3 4 2 1 2 2 5 4 5 1 1 3 1 1 4 1 4 1 3 5 3 2 2 2 3 1 2 4 4 2 3 2 1 3 1 3 6 5 1 1 2 3 1 4 1 5 3 0 3 2 1 1 0 3 4 3 3 2 1 2 0 3 2 1 4 2 1 4 3 2 2 1 5 0 2 1 3 3 2 1 2 3 1 3 5 1 1 1 3 1 1 4 3 2 1 2 2 3 4 2 2 1 2 6 1 4 3 2 4 2 0 4 2 2 4 2 2 3 3 2 4 3 0 2 1 0 1 2 3 1 4 4 1 3 6 4 2 1 3 2 2 3 4 5 7 3 3 2 2 2 2 2 3 2 2 3 4 5 1 2 0 1 2 1 3 2 1 6 1 1 1 3 2 3 4 3 1 1 3 3 1 2 3 3 4 4 2 3 3 2 3 2 1 3 2 0 4 2 3 2 1 4 2 4 1 1 2 4 1 2 0 2 2 2 1 3 3 3 3 0 5 3 2 2 1 4 1 1 2 2 3 4 3 3 1 2 5 0 3 3 3 0 1 0 3 6 2 5 5 1 2 3 2 2 5 2 2 1 2 1 2 4 2 3 0 2 1 3 0 4 4 2 1 3 3 3 2 2 3 1 4 3 3 2 3 1 2 3 2 0 2 1 4 1 1 5 4 3 0 1 5 3 2 2 4 2 2 2 3 2 4 1 4 1 6 3 2 4 3 2 1 3 1 3 2 4 3 5 4 3 2 3 2 3 0 4 3 0 4 4 2 1 3 3 1 5 3 3 5 1 2 4 3 6 4 3 1 2 1 3 4 1 2 3 2 1 3 2 3 2 4 1 3 3 2 2 2 2 3 1 4 0 4 0 4 2 1 3 2 1 1 2 2 3 3 1 2 2 2 2 3 1 1 2 2 1 2 5 3 2 3 3 2 2 4 2 3 4 3 2 1 3 3 1 2 2 1 2 2 2 1 3 3 2 0 3 2 2 4 1 2 3 2 2 3 0 5 1 6 6 3 0 0 3 3 2 4 5 1 2 5 4 4 3 3 2 3 3 4 3 3 1 4 4 0 4 2 3 \n",
      "G: 3 2 3 0 4 1 2 2 4 2 2 5 1 0 1 3 3 3 5 4 6 3 5 7 3 2 5 2 3 3 5 3 4 2 3 0 2 4 2 1 2 4 2 3 3 3 3 2 2 3 2 4 2 5 1 0 2 2 3 2 2 1 1 1 2 3 3 3 2 1 3 4 2 2 2 0 0 2 2 3 2 3 0 2 2 3 3 0 4 3 3 3 2 4 5 4 3 1 3 3 3 2 1 2 4 4 1 2 1 3 4 5 1 4 6 2 3 4 0 3 4 1 2 3 5 3 2 3 2 2 1 4 1 3 2 1 0 2 2 3 4 3 3 2 2 2 1 2 5 0 1 4 1 2 2 5 4 0 1 2 1 2 2 3 1 3 3 1 3 1 2 1 2 4 3 2 2 3 0 2 2 2 3 3 1 3 3 3 3 4 2 1 4 0 2 2 4 1 3 2 1 1 4 0 2 2 0 5 2 3 1 1 6 3 1 1 3 3 4 7 3 1 2 2 2 4 2 2 2 1 0 7 2 1 1 4 2 2 1 2 2 3 1 2 1 5 3 2 3 3 0 0 3 3 3 6 2 4 2 3 1 3 3 5 0 3 3 4 4 3 0 2 2 2 2 4 4 2 3 4 3 0 1 0 5 1 2 4 1 2 3 1 0 3 2 1 3 2 3 2 3 1 1 2 2 4 1 1 3 1 4 2 2 0 3 2 3 1 0 3 2 1 2 3 5 4 2 2 2 4 2 3 3 3 2 2 2 5 3 4 2 3 2 2 1 2 2 3 2 3 2 0 2 4 0 2 2 0 3 2 3 1 3 1 4 2 5 1 3 3 3 4 2 4 3 3 2 3 3 2 1 2 1 2 4 2 5 3 3 1 0 3 2 2 2 2 3 2 3 1 0 2 3 3 2 0 3 3 2 2 1 5 6 0 1 3 2 5 2 1 3 3 4 2 3 4 4 1 1 2 4 1 3 2 1 3 3 3 3 3 1 1 5 3 4 1 2 1 1 4 3 1 5 2 1 2 5 2 1 2 0 3 3 1 2 1 2 4 1 1 1 0 2 2 2 0 4 0 2 4 2 5 3 3 1 2 3 2 4 3 4 3 5 1 2 2 2 2 1 2 3 2 4 0 4 4 3 4 3 2 1 3 2 3 4 3 1 3 3 2 5 2 4 2 0 2 2 2 4 2 4 1 2 3 2 3 2 2 2 4 2 5 3 2 3 4 1 2 3 3 5 2 3 1 3 1 3 4 5 1 4 1 4 2 5 1 4 1 2 3 2 3 2 1 1 3 4 3 4 3 3 2 2 1 0 2 3 1 2 3 1 3 2 5 1 0 3 3 1 3 5 2 4 2 6 4 3 3 2 1 2 0 5 3 5 1 0 5 4 4 3 1 6 2 1 0 2 4 1 2 4 0 2 1 2 3 5 2 2 3 0 4 3 1 3 3 4 0 2 3 4 3 0 4 4 6 4 3 1 1 2 2 0 2 1 3 3 2 5 1 5 3 2 2 2 1 3 4 4 3 3 0 3 2 1 3 4 3 1 4 5 2 2 1 4 3 3 1 4 2 0 2 4 0 0 1 1 3 2 3 3 1 4 4 3 4 3 1 0 2 4 1 4 4 3 2 2 2 5 2 2 5 5 2 2 2 4 2 2 2 1 1 2 3 3 5 3 2 4 0 3 2 5 5 1 1 5 6 0 4 5 6 2 1 2 0 1 4 3 3 3 3 2 2 4 2 3 3 2 2 1 2 3 2 3 4 2 1 1 4 3 1 1 4 7 3 0 6 1 5 1 2 3 3 4 2 1 3 5 3 1 2 3 3 1 4 2 4 1 2 2 4 2 3 1 2 1 3 2 1 4 6 1 2 2 1 2 2 2 3 3 3 1 2 2 5 1 3 2 3 3 2 3 4 3 6 4 5 4 3 0 3 2 2 2 2 3 1 4 3 2 1 2 1 3 2 4 3 1 2 1 3 2 3 3 3 0 2 4 2 3 3 3 1 4 0 1 4 2 1 3 3 2 2 4 4 0 2 3 3 3 2 2 4 2 5 3 1 3 1 3 1 2 2 3 1 3 3 0 3 1 6 1 2 5 3 3 4 5 2 3 3 0 4 3 3 3 1 4 3 1 4 5 3 4 2 2 5 2 3 4 4 5 6 4 2 0 0 2 3 4 1 5 4 2 1 4 3 2 2 1 2 2 2 3 4 2 3 3 1 3 2 3 2 1 2 \n",
      "T: 0 4 3 3 1 1 4 3 3 4 6 1 3 3 5 3 4 0 2 1 2 0 0 1 3 1 2 2 4 2 2 1 3 2 3 4 2 3 4 1 2 1 3 4 2 2 1 5 2 1 2 2 4 3 4 6 1 2 2 2 2 1 3 2 3 4 1 2 3 2 2 1 3 3 3 1 1 4 3 2 2 2 5 3 3 3 1 4 3 2 5 4 1 2 2 2 2 3 2 3 2 4 2 3 2 0 0 3 2 1 4 3 1 3 2 5 3 2 3 1 2 3 3 4 0 1 1 2 3 2 2 2 4 2 4 1 3 3 3 3 1 0 3 5 3 3 3 2 1 3 4 1 3 2 4 1 1 4 5 6 3 4 2 3 1 2 2 3 4 2 4 2 3 4 5 1 1 2 3 4 3 4 3 3 3 3 4 2 0 0 2 1 1 3 2 5 1 3 3 2 2 3 2 4 1 2 4 2 2 1 4 1 2 2 2 2 2 1 2 1 3 2 2 4 1 2 4 0 1 6 5 2 1 1 3 3 4 2 2 2 2 4 2 3 2 1 2 3 2 1 4 4 3 3 2 1 3 2 5 0 2 1 3 1 3 2 2 3 1 1 5 4 2 5 2 0 2 3 0 5 4 4 3 3 2 2 1 1 2 3 2 3 5 3 2 3 1 1 1 2 3 2 4 1 0 1 4 3 1 2 2 4 0 2 0 1 0 3 3 5 4 1 1 2 3 2 3 3 3 4 1 1 3 2 4 3 4 1 3 2 2 3 3 3 2 3 2 1 3 2 0 1 4 3 3 5 1 3 2 3 3 2 2 5 0 5 1 3 2 1 2 2 1 1 2 4 3 3 1 5 3 2 1 2 2 3 2 1 2 5 3 2 3 5 2 3 3 6 5 3 3 4 3 1 0 1 3 3 1 2 4 0 2 4 2 0 4 2 2 4 1 2 1 5 3 1 3 5 5 3 3 3 1 1 1 2 1 2 1 3 3 4 1 1 0 3 4 1 6 1 3 2 0 2 1 3 2 3 4 3 7 2 2 4 3 3 4 4 4 1 3 3 4 1 4 4 1 4 3 3 3 1 0 1 3 2 2 3 1 2 0 1 1 6 3 4 2 2 3 2 3 2 2 6 1 1 2 4 1 3 2 3 5 1 2 3 1 5 4 2 1 3 4 1 4 3 3 3 2 2 3 5 3 2 2 1 2 1 1 3 4 1 1 2 3 1 3 1 2 2 1 2 4 5 1 1 1 3 2 3 4 2 3 0 1 6 0 3 5 2 2 3 2 1 2 4 2 4 2 0 1 4 2 4 6 4 3 5 2 5 1 3 3 1 5 5 3 2 2 2 1 2 1 2 2 4 1 3 0 1 3 3 0 3 2 4 4 2 3 4 4 1 1 3 4 4 2 2 2 2 2 3 2 3 4 2 2 4 2 2 4 3 3 3 2 2 0 3 4 2 3 2 2 1 1 2 2 3 5 4 1 3 2 1 4 3 2 5 2 3 1 3 3 3 3 0 2 1 3 3 2 5 2 3 2 1 3 4 5 2 0 1 1 1 3 3 1 4 4 2 2 3 1 3 2 2 2 4 3 3 2 3 3 4 0 0 3 3 7 3 2 3 3 5 1 3 1 1 3 4 2 1 2 4 3 1 0 4 1 2 6 3 4 1 4 3 1 1 1 5 3 3 1 1 2 5 1 1 3 2 1 3 0 3 2 2 1 4 0 2 4 4 1 1 3 6 1 5 3 1 5 1 3 2 3 1 3 3 2 1 3 2 3 1 1 4 4 1 0 2 3 4 2 6 0 1 4 4 3 2 3 4 3 2 2 2 3 1 2 3 5 3 1 2 3 4 4 5 3 3 0 2 2 1 3 1 2 3 6 2 3 1 6 2 0 0 1 3 5 2 2 4 3 1 2 2 1 1 1 4 6 1 2 3 1 2 1 5 2 1 3 2 2 3 2 5 4 1 2 3 4 1 1 5 2 2 2 3 2 2 3 2 4 2 2 6 4 2 1 5 3 5 2 3 5 1 7 2 2 4 4 2 5 5 3 0 4 5 2 3 5 6 3 2 1 3 1 2 3 1 2 1 3 3 1 1 1 2 2 2 1 3 5 1 2 3 3 6 2 1 2 2 1 1 2 3 3 2 4 2 1 2 2 3 0 3 3 1 3 3 5 2 1 3 2 2 1 3 3 2 3 3 1 2 3 1 1 1 3 3 1 2 3 2 4 3 \n"
     ]
    }
   ],
   "source": [
    "def get_seq(l,lis):\n",
    "    return lis + l\n",
    "\n",
    "def max_consensus(a,t,g,c):\n",
    "    dic = dict(A= a,T= t,G=g,C= c)\n",
    "    return max(dic,key=lambda x:dic[x])\n",
    "\n",
    "def print_lis(l1):\n",
    "    for i in l1:\n",
    "        print(i,end=' ')\n",
    "    print()\n",
    "fileopen = open('rosalind_cons.txt')\n",
    "seq_lis = []\n",
    "n = 0\n",
    "seq = ''\n",
    "for line in fileopen:\n",
    "    if line[0] == '>':\n",
    "        if n > 0:\n",
    "            seq_lis.append(seq)\n",
    "        n += 1\n",
    "        seq = ''\n",
    "        continue\n",
    "    seq = get_seq(line.strip(),seq)\n",
    "\n",
    "seq_lis.append(seq)\n",
    "A = [0 for x in range(len(seq_lis[0]))]\n",
    "T = [0 for x in range(len(seq_lis[0]))]\n",
    "G = [0 for x in range(len(seq_lis[0]))]\n",
    "C = [0 for x in range(len(seq_lis[0]))]\n",
    "for i in seq_lis:\n",
    "    for j in range(len(i)):\n",
    "        if i[j] == 'A':\n",
    "            A[j] += 1\n",
    "            continue\n",
    "        elif i[j] == 'T':\n",
    "            T[j] += 1\n",
    "            continue\n",
    "        elif i[j] == 'G':\n",
    "            G[j] += 1\n",
    "            continue\n",
    "        elif i[j] == 'C':\n",
    "            C[j] += 1\n",
    "            continue\n",
    "result = ''\n",
    "for l in range(len(A)):\n",
    "    maxbase = max_consensus(A[l],T[l],G[l],C[l])\n",
    "    result += maxbase\n",
    "print(result)\n",
    "print('A:',end=' ')\n",
    "print_lis(A)\n",
    "print('C:',end=' ')\n",
    "print_lis(C)\n",
    "print('G:',end=' ')\n",
    "print_lis(G)\n",
    "print('T:',end=' ')\n",
    "print_lis(T)"
   ]
  },
  {
   "cell_type": "markdown",
   "metadata": {},
   "source": [
    "# 10. PROB"
   ]
  },
  {
   "cell_type": "code",
   "execution_count": null,
   "metadata": {},
   "outputs": [],
   "source": [
    "import math\n",
    "\n",
    "with open(\"rosalind_prob.txt\", \"r\") as f:\n",
    "    s = f.readline().strip()\n",
    "    A = map(float, f.readline().strip().split(\" \"))\n",
    "prob_dict={'A':0,'C':0,'G':0,'T':0,}\n",
    "a = s.count('A') + s.count('T')\n",
    "c = s.count('C') + s.count('G')\n",
    "for i in A:\n",
    "    prob_dict['A'] = math.log((1-i)/2, 10)\n",
    "    prob_dict['C'] = math.log((i)/2, 10)\n",
    "    prob_dict['G'] = math.log((i)/2, 10)\n",
    "    prob_dict['T'] = math.log((1-i)/2, 10)\n",
    "    prob = a * math.log((1-i)/2, 10) + c * math.log(i/2, 10)\n",
    "    print(prob, end=\" \")"
   ]
  }
 ],
 "metadata": {
  "kernelspec": {
   "display_name": "Python 3.10.7 64-bit",
   "language": "python",
   "name": "python3"
  },
  "language_info": {
   "codemirror_mode": {
    "name": "ipython",
    "version": 3
   },
   "file_extension": ".py",
   "mimetype": "text/x-python",
   "name": "python",
   "nbconvert_exporter": "python",
   "pygments_lexer": "ipython3",
   "version": "3.10.7"
  },
  "orig_nbformat": 4,
  "vscode": {
   "interpreter": {
    "hash": "aee8b7b246df8f9039afb4144a1f6fd8d2ca17a180786b69acc140d282b71a49"
   }
  }
 },
 "nbformat": 4,
 "nbformat_minor": 2
}
