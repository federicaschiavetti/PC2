{
 "cells": [
  {
   "cell_type": "markdown",
   "metadata": {},
   "source": [
    "# 1. fib"
   ]
  },
  {
   "cell_type": "code",
   "execution_count": null,
   "metadata": {},
   "outputs": [],
   "source": [
    "def rabbits(n, k): \n",
    "   if n < 2:\n",
    "    return n\n",
    "   else:     # fibonacci sequence : F(n)=F(n-1)+F(n-2)\n",
    "    return rabbits(n-1, k) + k*rabbits(n-2,k)\n",
    "print(rabbits(31,4))"
   ]
  },
  {
   "cell_type": "markdown",
   "metadata": {},
   "source": [
    "# 2. hamm\n"
   ]
  },
  {
   "cell_type": "code",
   "execution_count": null,
   "metadata": {},
   "outputs": [],
   "source": [
    "s = \"GATCAAACGTTTAACAAGTTAAGACTACACCTTGCTCTTGGATATAGAGTCAGATAGGGAATAGCATCGGCGAGTACTGGAGGCCGTGGTATTTATTGGACGTGCTGTTGGGTCGTCAGGAATTGGGCGCATGTAGACGGAGAACCCATGGCTATGACACCGAGAGCTCTTCCGGACAGGCTGAAAAACGACTAGAGCGGAATCAGGCATTGACGACCATCCTGCTCCTGGCCTGCGTTAGTGCCTCATGCTTGATCCAACTTTGTACGTGAGCGGTTCTCGCCACGTTCCCACCGTTGTCTTGAAGTTTTAATCTTATCGTTCGGAGCTGCCGTTCCTCGGAGGATACGGGAGCCTTATGCCAGCCCAGTTCCAAGAGGGACCCACAATTAGCTCCGACACCATTCAATGGTCCGCGTACCTCACTGCCACACGTTGCTGATAGACGGTTGTTTTGTGCGAAGTGACCCCCAAGAGCTATTTCCTTTTTTAGAGATAAGGCTTAGTTACCCCCTTATGAACGCTAAAGCCACAGTAATTTACTTTGTATTGAAGACAACCAACCACAAAATAGTCCCCGCGCTATTCAACGTTGACAGCGTCCGCACTGCCTTCCAACCCCTAACCGGCTGCATACGCTGTGTCGATTGGTTTTTGGGAGAAAAGATGCTAACCACGCCGTCCGTGCCAACCTTACTACCACTCGCTCGACTACGTCGTAGTCCGAGCTAGCACATTCCACGTAAGCCCCTTGTAAAAAGACACTCGTTTACAACAGTTTTCACACCTTATGCACGTGATGGACGCCCCTATCACGCCTAACCTTAGTCCAAATCACCCTGTACACACGGGAAGATTGGAAGCACGCCCATAGGTCCAGCCGGTAGCGCCCATCACAAGATTCAGTTGGTCTATGCCACACAGTCTTCAGGAGTAAGCGCTCCTTAGTCCACGCATAGGGAGTAGAGGTGCGAACAGCGACGT\"\n",
    "t = \"GGGCTAAGCCTTTGTGAGCTAAAGCAACATCTTGACCAGAGTTAGGCTTCCAGTTGCGCTTTATTAGAGGTCTATAATGGGAGTCGCTGAAGTCGTTATATCGGGTGCTGAATTATCTTGGAAGCGACGTCTGATGACATGTAATTAGGGCGCAGCACACCGAAATCTCTTCCGAACAGGCGTGTATACGACTAGAGCCGACGACGACCGCGACCGCCATACTGCTCCATCCGTACGTTATTGTCAACGGTGCGAAAAAAGTGTGTTGCGCGGCCCCTCGCGCTCTGATAACACGGGCGTTTAGGGGTTTATATCGTGTCGTGTTAGGTTGCACCCTGTGTTCACAGTTTGTGTTACGATGGCCGCCCAGTACCAAAACGAACTCACAAGTAGCCCCGGCGTCGGGGTTTCGTCCGCCTGCTAGTCTGCCGGGCTTTGCGGTTAGTCTTGCGACTTAGGGGCTGTAATAACTTGACAGTGGATCTTTTCTGAGATCTGGCATAAAGGTACCCCATTCTGAACTCTAGAATCTCCCTAGACAAATACGTTGGTTAGAGAATAGACTCTCCTATCTCGGCCGGGGGCGCTCATTCATACAGCATCCTCAAGGCTCTCTGCCGCGTTACCAGCTGCAGATACGGGATGGAATGATTATCGCGAGACAGAAACCCACGTACCAGATCCGGACCGAGCTAAGACCCAAGCGCTTGGACAGGTCTTAGTTCGAGCTGCCTCCAAAGGCTCCAGCTGCTTGAGAGAGTACAGTGGTACTCAGAAGTTCTCGCCCGGGTGTTACGACACGATCCGCCGGGTGGCCTCTAGCCTATTTCCTCCCAGCACTACTAACTAGGGATCTGTTGTTGTAAGTCCAGAGCTGCACCCAATCGTCCCTAAAAAGAGGTGCAGATGCTCTACACCGCTGATTCTTCCGGACTCAGACCTACTGAGCCCACAAATAATGATTAGGCGTGAATTAATCAACTG\"\n",
    "\n",
    "def hamdistance(s, t):\n",
    "    \n",
    "    n = len (s)\n",
    "    l = len(t)\n",
    "    if n == l:\n",
    "        count = 0\n",
    "        for i in range(n):\n",
    "            if s[i]!= t[i]:\n",
    "                count += 1\n",
    "        return count\n",
    "print(hamdistance(s,t))"
   ]
  },
  {
   "cell_type": "markdown",
   "metadata": {},
   "source": [
    "# 3.fibd"
   ]
  },
  {
   "cell_type": "code",
   "execution_count": null,
   "metadata": {},
   "outputs": [],
   "source": [
    "def MortalFib(n, m):\n",
    "    alive = [1, 1]\n",
    "    for i in range(2, n):\n",
    "        F = alive[i - 1] + alive[i - 2] # fibonacci \n",
    "        if i == m:\n",
    "            F = F - alive[i-m]\n",
    "        if i > m:\n",
    "            F -= alive[i-(m+1)]\n",
    "        alive.append(F)\n",
    "    return alive[-1]\n",
    "\n",
    "n = 93 \n",
    "m = 17\n",
    "\n",
    "print(MortalFib(n, m))"
   ]
  },
  {
   "cell_type": "markdown",
   "metadata": {},
   "source": [
    "# 4. mrna"
   ]
  },
  {
   "cell_type": "code",
   "execution_count": null,
   "metadata": {},
   "outputs": [],
   "source": [
    "aa = open('rosalind_mrna.txt','r').read().strip()\n",
    "\n",
    "codon_table={ 'UUU': 'F',     'CUU': 'L',     'AUU': 'I',     'GUU': 'V',\n",
    "                 'UUC': 'F',     'CUC': 'L',     'AUC': 'I',     'GUC': 'V',\n",
    "                 'UUA': 'L',     'CUA': 'L',     'AUA': 'I',     'GUA': 'V',\n",
    "                 'UUG': 'L',     'CUG': 'L',     'AUG': 'M',     'GUG': 'V',\n",
    "                 'UCU': 'S',     'CCU': 'P',     'ACU': 'T',     'GCU': 'A',\n",
    "                 'UCC': 'S',     'CCC': 'P',     'ACC': 'T',     'GCC': 'A',\n",
    "                 'UCA': 'S',     'CCA': 'P',     'ACA': 'T',     'GCA': 'A',\n",
    "                 'UCG': 'S',     'CCG': 'P',     'ACG': 'T',     'GCG': 'A',\n",
    "                 'UAU': 'Y',     'CAU': 'H',     'AAU': 'N',     'GAU': 'D',\n",
    "                 'UAC': 'Y',     'CAC': 'H',     'AAC': 'N',     'GAC': 'D',\n",
    "                 'UAA': 'Stop',  'CAA': 'Q',     'AAA': 'K',     'GAA': 'E',\n",
    "                 'UAG': 'Stop',  'CAG': 'Q',     'AAG': 'K',     'GAG': 'E',\n",
    "                 'UGU': 'C',     'CGU': 'R',     'AGU': 'S',     'GGU': 'G',\n",
    "                 'UGC': 'C',     'CGC': 'R',     'AGC': 'S',     'GGC': 'G',\n",
    "                 'UGA': 'Stop',  'CGA': 'R',     'AGA': 'R',     'GGA': 'G',\n",
    "                 'UGG': 'W',     'CGG': 'R',     'AGG': 'R',     'GGG': 'G'}\n",
    "# counted codons for each aa:\n",
    "freq = {'F':2,'L':6,'S':6,'Y':2,'S_':3,'C':2,'W':1,'P':4,'H':2,'Q':2,\n",
    "               'R':6,'I':3,'M':1,'T':4,'N':2,'K':2,'V':4,'A':4,'D':2,'G':4,'E':2}\n",
    "bases = ['U','C','A','G']\n",
    "stops = 3 # number of stop codons is 3\n",
    "for i in aa:\n",
    "   stops = stops*freq[i]\n",
    "print (stops%1000000)"
   ]
  },
  {
   "cell_type": "markdown",
   "metadata": {},
   "source": [
    "# 5. prtm"
   ]
  },
  {
   "cell_type": "code",
   "execution_count": null,
   "metadata": {},
   "outputs": [],
   "source": [
    "\n",
    "Monoisotopic_mass_table = { \"A\" : 71.03711, \"C\" : 103.00919, \"D\" : 115.02694, \"E\" : 129.04259, \"F\" : 147.06841, \"G\" : 57.02146, \"H\" : 137.05891, \"I\" : 113.08406, \"K\" : 128.09496, \"L\" : 113.08406, \"M\" : 131.04049, \"N\" : 114.04293, \"P\" : 97.05276, \"Q\" : 128.05858, \"R\" : 156.10111, \"S\" : 87.03203, \"T\" : 101.04768, \"V\" : 99.06841, \"W\" : 186.07931, \"Y\" : 163.06333, }\n",
    "\n",
    "aa_sequence = \"GCMWMGIESCFIMKIFYMSQHIYDRDVVWYAHPPLGCDVRSHKNKLDSDHVLNEHMCNFCHDFTKDGDFQSQNTNYTEEFFCKAYVQCTFFSMASYRSPQILTLCNKVNMMVTAQDSPDAKCWSTNAQCYMEQSAMIWFKLIVQSRHPHWAACCHMPLWPSTDGDMPYCFSRCQHSYNCWMSKSIYSYLYNWVVGQSGDNVYGLEYEMHKAPFDTSGSDLPLLGPTERPEMEKVFALISYDHWGKPPKKMWCCPFEVRKHDTQIIGHPADWPLRFAQCFGRPCTCNGQHWIWMYSYVCVNKQGLSGHTVDWSICAIGSNDFDTENGIYLLFFMTCRTEEETLMHRPVVHICHRRAQDAQISRYFEYNRQETRMGDIPQQKLLYYCKMFGEWWGSEWLRLKHAQCCEHKWCVVGYGQFSHYAGNVAFHIPYEGHDHMKDHFQTSTVKRRNAKGHKWSYRKMDSGHCDDHGVKECEFHMTVIQMKCMKWPHECHWFGIQYFWVTCWRQKIPWVQGMSTAQDSQGPHWWICAQGVEFWCESNMTEHPSDMAEIWGQSKYMAHQRQLYDLKLCQYMLYVLSAAWNVWYPCGEVIAMFGRLLCMYFSQHAKRKQPCDPWCLTDEMRPLWWKTPMKNGSDYHRLDHNVDIQKRCACELQREGGHASAYSMGDYYAWWCGYINAAYVMMNLEIDGSYLSCVNCGDHLHEKSTCFFNQVYKTFKNPIIWDLSEIYCNRCGHFILSWCYQQTCREHMCGAMDLYQKVIKAHKWYKQRYMSRFHRDNSWTRYFRRVTSSSKTFTHCNNNNASWLQRMAQEIKATCDETTNIRRMWCYPWTDHKQDQHRFGVIFPVDHAQERWNIHEGNETIWIEPGGELSWESMRSTWHKWQDDDNVAYLMEDAGYIQWTMCSLHWDKNIWYAPILMIRFAHCYIQTEIYTSSNKCS\"\n",
    "\n",
    "mass = 0\n",
    "for i in aa_sequence:\n",
    "    mass += Monoisotopic_mass_table[i]\n",
    "\n",
    "print(mass)"
   ]
  },
  {
   "cell_type": "markdown",
   "metadata": {},
   "source": [
    "# 6. lcsm"
   ]
  },
  {
   "cell_type": "code",
   "execution_count": null,
   "metadata": {},
   "outputs": [],
   "source": [
    "from Bio import SeqIO\n",
    "with open(\"rosalind_lcsm.txt\", \"r\") as f:\n",
    "    rec = list(SeqIO.parse(f, \"fasta\"))\n",
    "    motif = \" \"\n",
    "    n= rec[0].seq\n",
    "    l= len(n)\n",
    "    r = rec[1:]\n",
    "    for i in range(l):\n",
    "        for x in r:\n",
    "            l= len(motif)\n",
    "            sub = i-l\n",
    "            if n[sub:i+1] not in x.seq:\n",
    "                break\n",
    "        else:\n",
    "            motif = n[i-l:i+1]\n",
    "    print(motif)"
   ]
  },
  {
   "cell_type": "markdown",
   "metadata": {},
   "source": [
    "# 7.perm"
   ]
  },
  {
   "cell_type": "code",
   "execution_count": null,
   "metadata": {},
   "outputs": [],
   "source": [
    "import numpy as np\n",
    "import itertools\n",
    "from more_itertools import distinct_permutations\n",
    "\n",
    "n = 6\n",
    "lis=[list]\n",
    "for i in range(1,n+1):\n",
    "  lis.append(i)\n",
    "\n",
    "res = list(distinct_permutations(range(1,int(n)+1)))\n",
    "print(len(res))\n",
    "count = 0\n",
    "for i in res:\n",
    "    count += 1\n",
    "    for x in range(n): \n",
    "        l = n-1\n",
    "        if x < l: \n",
    "          print(str(i[x]), end =\" \")\n",
    "        else:\n",
    "         print(str(i[x]))"
   ]
  },
  {
   "cell_type": "markdown",
   "metadata": {},
   "source": [
    "# 8. revp"
   ]
  },
  {
   "cell_type": "code",
   "execution_count": null,
   "metadata": {},
   "outputs": [],
   "source": [
    "\n",
    "from Bio import SeqIO      \n",
    "dna_string = open('rosalind_revp-4.txt').read().strip()\n",
    "s= 'TCAATGCATGCGGGTCTATATGCAT'\n",
    "s_complement= []\n",
    "def reverse(dna):\n",
    "    reverse = dna[::-1]\n",
    "for i in s:\n",
    "    if i == 'T':\n",
    "        s_complement.append('A')\n",
    "    if i == 'A':\n",
    "        s_complement.append('T')\n",
    "    if i == 'C':\n",
    "        s_complement.append('G')\n",
    "    if i == 'G':\n",
    "        s_complement.append('C')\n",
    "    res=s_complement[::-1]\n",
    "print(''.join(res))   # res is to get reverse and complement dna sequence\n",
    "\n",
    "# range 4-12\n",
    "dic = {'G':'C','C':'G','A':'T','T':'A'}\n",
    "n = len(s)\n",
    "for i in range(n-1):\n",
    "    for j in range(min(n, i+12), i+3, -1):\n",
    "        temp = s[i:j]\n",
    "        r = ''\n",
    "        for k in temp:\n",
    "            r += dic[k]\n",
    "        r_compl=r[::-1]\n",
    "        \n",
    "        if temp == r_compl :\n",
    "              print(i+1,j-i)"
   ]
  },
  {
   "cell_type": "markdown",
   "metadata": {},
   "source": [
    "# 9.lexf"
   ]
  },
  {
   "cell_type": "code",
   "execution_count": null,
   "metadata": {},
   "outputs": [],
   "source": [
    "from itertools import product\n",
    "with open(\"rosalind_lexf.txt\", 'r') as f:\n",
    "     string = f.readline().split()\n",
    "     n=4\n",
    "     n = int(f.readline())\n",
    "     \n",
    "     result = product(string, repeat = 4)\n",
    "     \n",
    "     for x in result:\n",
    "      res = ''.join(x)\n",
    "      print(res+'')"
   ]
  },
  {
   "cell_type": "markdown",
   "metadata": {},
   "source": [
    "# 10.lgis"
   ]
  },
  {
   "cell_type": "markdown",
   "metadata": {},
   "source": [
    "- I really really tried to solve this but i failed. I found this solution which is the closest to my reasoning, which i studied and understood much better."
   ]
  },
  {
   "cell_type": "code",
   "execution_count": null,
   "metadata": {},
   "outputs": [],
   "source": [
    "def lgis( X, compare_func ):\n",
    "    piles = []\n",
    "\n",
    "    for i in X:\n",
    "        try:\n",
    "            idx = next(j for j in range(len(piles)) if compare_func(piles[j][-1][0],i))\n",
    "            piles[idx].append((i,len(piles[idx-1]) if idx > 0 else -1))\n",
    "        except StopIteration:\n",
    "            piles.append( [(i,len(piles[-1]) if piles else -1)])\n",
    "\n",
    "    result = []\n",
    "    bp = -1\n",
    "    for i in range(len(piles)-1,-1,-1):\n",
    "        result.append(piles[i][bp][0])\n",
    "        bp = piles[i][bp][1]-1\n",
    "\n",
    "    return result[::-1]\n",
    "\n",
    "f = open( \"rosalind_lgis-2.txt\")\n",
    "f.readline()\n",
    "X = map( int, f.readline().split())\n",
    "\n",
    "print (lgis(X, lambda a,b: a > b))\n",
    "print (lgis(X, lambda a,b: a < b))"
   ]
  }
 ],
 "metadata": {
  "kernelspec": {
   "display_name": "Python 3.9.7 ('base')",
   "language": "python",
   "name": "python3"
  },
  "language_info": {
   "codemirror_mode": {
    "name": "ipython",
    "version": 3
   },
   "file_extension": ".py",
   "mimetype": "text/x-python",
   "name": "python",
   "nbconvert_exporter": "python",
   "pygments_lexer": "ipython3",
   "version": "3.9.7"
  },
  "orig_nbformat": 4,
  "vscode": {
   "interpreter": {
    "hash": "5160fc0297c10a87899e409c00e407bc9cd0d02692e9af8a35716bf90520312a"
   }
  }
 },
 "nbformat": 4,
 "nbformat_minor": 2
}
