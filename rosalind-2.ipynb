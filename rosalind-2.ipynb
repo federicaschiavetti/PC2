{
 "cells": [
  {
   "cell_type": "markdown",
   "metadata": {},
   "source": [
    "# 1. fib"
   ]
  },
  {
   "cell_type": "code",
   "execution_count": 10,
   "metadata": {},
   "outputs": [
    {
     "name": "stdout",
     "output_type": "stream",
     "text": [
      "1117836738901\n"
     ]
    }
   ],
   "source": [
    "def rabbits(n, k): \n",
    "   if n < 2:\n",
    "    return n\n",
    "   else:     # fibonacci sequence : F(n)=F(n-1)+F(n-2)\n",
    "    return rabbits(n-1, k) + k*rabbits(n-2,k)\n",
    "print(rabbits(31,4))"
   ]
  },
  {
   "cell_type": "markdown",
   "metadata": {},
   "source": [
    "# 2. hamm\n"
   ]
  },
  {
   "cell_type": "code",
   "execution_count": 18,
   "metadata": {},
   "outputs": [
    {
     "name": "stdout",
     "output_type": "stream",
     "text": [
      "481\n"
     ]
    }
   ],
   "source": [
    "s = \"GATCAAACGTTTAACAAGTTAAGACTACACCTTGCTCTTGGATATAGAGTCAGATAGGGAATAGCATCGGCGAGTACTGGAGGCCGTGGTATTTATTGGACGTGCTGTTGGGTCGTCAGGAATTGGGCGCATGTAGACGGAGAACCCATGGCTATGACACCGAGAGCTCTTCCGGACAGGCTGAAAAACGACTAGAGCGGAATCAGGCATTGACGACCATCCTGCTCCTGGCCTGCGTTAGTGCCTCATGCTTGATCCAACTTTGTACGTGAGCGGTTCTCGCCACGTTCCCACCGTTGTCTTGAAGTTTTAATCTTATCGTTCGGAGCTGCCGTTCCTCGGAGGATACGGGAGCCTTATGCCAGCCCAGTTCCAAGAGGGACCCACAATTAGCTCCGACACCATTCAATGGTCCGCGTACCTCACTGCCACACGTTGCTGATAGACGGTTGTTTTGTGCGAAGTGACCCCCAAGAGCTATTTCCTTTTTTAGAGATAAGGCTTAGTTACCCCCTTATGAACGCTAAAGCCACAGTAATTTACTTTGTATTGAAGACAACCAACCACAAAATAGTCCCCGCGCTATTCAACGTTGACAGCGTCCGCACTGCCTTCCAACCCCTAACCGGCTGCATACGCTGTGTCGATTGGTTTTTGGGAGAAAAGATGCTAACCACGCCGTCCGTGCCAACCTTACTACCACTCGCTCGACTACGTCGTAGTCCGAGCTAGCACATTCCACGTAAGCCCCTTGTAAAAAGACACTCGTTTACAACAGTTTTCACACCTTATGCACGTGATGGACGCCCCTATCACGCCTAACCTTAGTCCAAATCACCCTGTACACACGGGAAGATTGGAAGCACGCCCATAGGTCCAGCCGGTAGCGCCCATCACAAGATTCAGTTGGTCTATGCCACACAGTCTTCAGGAGTAAGCGCTCCTTAGTCCACGCATAGGGAGTAGAGGTGCGAACAGCGACGT\"\n",
    "t = \"GGGCTAAGCCTTTGTGAGCTAAAGCAACATCTTGACCAGAGTTAGGCTTCCAGTTGCGCTTTATTAGAGGTCTATAATGGGAGTCGCTGAAGTCGTTATATCGGGTGCTGAATTATCTTGGAAGCGACGTCTGATGACATGTAATTAGGGCGCAGCACACCGAAATCTCTTCCGAACAGGCGTGTATACGACTAGAGCCGACGACGACCGCGACCGCCATACTGCTCCATCCGTACGTTATTGTCAACGGTGCGAAAAAAGTGTGTTGCGCGGCCCCTCGCGCTCTGATAACACGGGCGTTTAGGGGTTTATATCGTGTCGTGTTAGGTTGCACCCTGTGTTCACAGTTTGTGTTACGATGGCCGCCCAGTACCAAAACGAACTCACAAGTAGCCCCGGCGTCGGGGTTTCGTCCGCCTGCTAGTCTGCCGGGCTTTGCGGTTAGTCTTGCGACTTAGGGGCTGTAATAACTTGACAGTGGATCTTTTCTGAGATCTGGCATAAAGGTACCCCATTCTGAACTCTAGAATCTCCCTAGACAAATACGTTGGTTAGAGAATAGACTCTCCTATCTCGGCCGGGGGCGCTCATTCATACAGCATCCTCAAGGCTCTCTGCCGCGTTACCAGCTGCAGATACGGGATGGAATGATTATCGCGAGACAGAAACCCACGTACCAGATCCGGACCGAGCTAAGACCCAAGCGCTTGGACAGGTCTTAGTTCGAGCTGCCTCCAAAGGCTCCAGCTGCTTGAGAGAGTACAGTGGTACTCAGAAGTTCTCGCCCGGGTGTTACGACACGATCCGCCGGGTGGCCTCTAGCCTATTTCCTCCCAGCACTACTAACTAGGGATCTGTTGTTGTAAGTCCAGAGCTGCACCCAATCGTCCCTAAAAAGAGGTGCAGATGCTCTACACCGCTGATTCTTCCGGACTCAGACCTACTGAGCCCACAAATAATGATTAGGCGTGAATTAATCAACTG\"\n",
    "\n",
    "def hamming_distance(s, t):\n",
    "    \n",
    "    n = len (s)\n",
    "    l = len(t)\n",
    "    if n == l:\n",
    "        count = 0\n",
    "        for i in range(n):\n",
    "            if s[i]!= t[i]:\n",
    "                count += 1\n",
    "        return count\n",
    "print(hamming_distance(s,t))\n",
    "\n",
    "        "
   ]
  },
  {
   "cell_type": "markdown",
   "metadata": {},
   "source": [
    "# 3.fibd"
   ]
  },
  {
   "cell_type": "code",
   "execution_count": 23,
   "metadata": {},
   "outputs": [
    {
     "name": "stdout",
     "output_type": "stream",
     "text": [
      "12081658148171622250\n"
     ]
    }
   ],
   "source": [
    "def MortalFib(n, m):\n",
    "    alive = [1, 1]\n",
    "    for i in range(2, n):\n",
    "        F = alive[i - 1] + alive[i - 2] # fibonacci \n",
    "        if i == m:\n",
    "            F = F - alive[i-m]\n",
    "        if i > m:\n",
    "            F -= alive[i-(m+1)]\n",
    "        alive.append(F)\n",
    "    return alive[-1]\n",
    "\n",
    "n = 93 \n",
    "m = 17\n",
    "\n",
    "print(MortalFib(n, m))"
   ]
  },
  {
   "cell_type": "markdown",
   "metadata": {},
   "source": [
    "# 4. mrna"
   ]
  },
  {
   "cell_type": "code",
   "execution_count": 5,
   "metadata": {},
   "outputs": [
    {
     "name": "stdout",
     "output_type": "stream",
     "text": [
      "591552\n"
     ]
    }
   ],
   "source": [
    "aa = open('rosalind_mrna.txt','r').read().strip()\n",
    "\n",
    "codon_table={ 'UUU': 'F',     'CUU': 'L',     'AUU': 'I',     'GUU': 'V',\n",
    "                 'UUC': 'F',     'CUC': 'L',     'AUC': 'I',     'GUC': 'V',\n",
    "                 'UUA': 'L',     'CUA': 'L',     'AUA': 'I',     'GUA': 'V',\n",
    "                 'UUG': 'L',     'CUG': 'L',     'AUG': 'M',     'GUG': 'V',\n",
    "                 'UCU': 'S',     'CCU': 'P',     'ACU': 'T',     'GCU': 'A',\n",
    "                 'UCC': 'S',     'CCC': 'P',     'ACC': 'T',     'GCC': 'A',\n",
    "                 'UCA': 'S',     'CCA': 'P',     'ACA': 'T',     'GCA': 'A',\n",
    "                 'UCG': 'S',     'CCG': 'P',     'ACG': 'T',     'GCG': 'A',\n",
    "                 'UAU': 'Y',     'CAU': 'H',     'AAU': 'N',     'GAU': 'D',\n",
    "                 'UAC': 'Y',     'CAC': 'H',     'AAC': 'N',     'GAC': 'D',\n",
    "                 'UAA': 'Stop',  'CAA': 'Q',     'AAA': 'K',     'GAA': 'E',\n",
    "                 'UAG': 'Stop',  'CAG': 'Q',     'AAG': 'K',     'GAG': 'E',\n",
    "                 'UGU': 'C',     'CGU': 'R',     'AGU': 'S',     'GGU': 'G',\n",
    "                 'UGC': 'C',     'CGC': 'R',     'AGC': 'S',     'GGC': 'G',\n",
    "                 'UGA': 'Stop',  'CGA': 'R',     'AGA': 'R',     'GGA': 'G',\n",
    "                 'UGG': 'W',     'CGG': 'R',     'AGG': 'R',     'GGG': 'G'}\n",
    "# counted codons for each aa:\n",
    "freq = {'F':2,'L':6,'S':6,'Y':2,'S_':3,'C':2,'W':1,'P':4,'H':2,'Q':2,\n",
    "               'R':6,'I':3,'M':1,'T':4,'N':2,'K':2,'V':4,'A':4,'D':2,'G':4,'E':2}\n",
    "bases = ['U','C','A','G']\n",
    "stops = 3 # number of stop codons is 3\n",
    "for i in aa:\n",
    "   stops = stops*freq[i]\n",
    "print (stops%1000000)"
   ]
  },
  {
   "cell_type": "markdown",
   "metadata": {},
   "source": [
    "# 5. prtm"
   ]
  },
  {
   "cell_type": "code",
   "execution_count": 8,
   "metadata": {},
   "outputs": [
    {
     "name": "stdout",
     "output_type": "stream",
     "text": [
      "111604.20785000034\n"
     ]
    }
   ],
   "source": [
    "\n",
    "Monoisotopic_mass_table = { \"A\" : 71.03711, \"C\" : 103.00919, \"D\" : 115.02694, \"E\" : 129.04259, \"F\" : 147.06841, \"G\" : 57.02146, \"H\" : 137.05891, \"I\" : 113.08406, \"K\" : 128.09496, \"L\" : 113.08406, \"M\" : 131.04049, \"N\" : 114.04293, \"P\" : 97.05276, \"Q\" : 128.05858, \"R\" : 156.10111, \"S\" : 87.03203, \"T\" : 101.04768, \"V\" : 99.06841, \"W\" : 186.07931, \"Y\" : 163.06333, }\n",
    "\n",
    "aa_sequence = \"GCMWMGIESCFIMKIFYMSQHIYDRDVVWYAHPPLGCDVRSHKNKLDSDHVLNEHMCNFCHDFTKDGDFQSQNTNYTEEFFCKAYVQCTFFSMASYRSPQILTLCNKVNMMVTAQDSPDAKCWSTNAQCYMEQSAMIWFKLIVQSRHPHWAACCHMPLWPSTDGDMPYCFSRCQHSYNCWMSKSIYSYLYNWVVGQSGDNVYGLEYEMHKAPFDTSGSDLPLLGPTERPEMEKVFALISYDHWGKPPKKMWCCPFEVRKHDTQIIGHPADWPLRFAQCFGRPCTCNGQHWIWMYSYVCVNKQGLSGHTVDWSICAIGSNDFDTENGIYLLFFMTCRTEEETLMHRPVVHICHRRAQDAQISRYFEYNRQETRMGDIPQQKLLYYCKMFGEWWGSEWLRLKHAQCCEHKWCVVGYGQFSHYAGNVAFHIPYEGHDHMKDHFQTSTVKRRNAKGHKWSYRKMDSGHCDDHGVKECEFHMTVIQMKCMKWPHECHWFGIQYFWVTCWRQKIPWVQGMSTAQDSQGPHWWICAQGVEFWCESNMTEHPSDMAEIWGQSKYMAHQRQLYDLKLCQYMLYVLSAAWNVWYPCGEVIAMFGRLLCMYFSQHAKRKQPCDPWCLTDEMRPLWWKTPMKNGSDYHRLDHNVDIQKRCACELQREGGHASAYSMGDYYAWWCGYINAAYVMMNLEIDGSYLSCVNCGDHLHEKSTCFFNQVYKTFKNPIIWDLSEIYCNRCGHFILSWCYQQTCREHMCGAMDLYQKVIKAHKWYKQRYMSRFHRDNSWTRYFRRVTSSSKTFTHCNNNNASWLQRMAQEIKATCDETTNIRRMWCYPWTDHKQDQHRFGVIFPVDHAQERWNIHEGNETIWIEPGGELSWESMRSTWHKWQDDDNVAYLMEDAGYIQWTMCSLHWDKNIWYAPILMIRFAHCYIQTEIYTSSNKCS\"\n",
    "\n",
    "mass = 0\n",
    "for i in aa_sequence:\n",
    "    mass += Monoisotopic_mass_table[i]\n",
    "\n",
    "print(mass)"
   ]
  },
  {
   "cell_type": "markdown",
   "metadata": {},
   "source": [
    "# 6. lcsm"
   ]
  },
  {
   "cell_type": "code",
   "execution_count": null,
   "metadata": {},
   "outputs": [],
   "source": [
    "from Bio import SeqIO\n",
    "with open(\"rosalind_lcsm.txt\", \"r\") as f:\n",
    "    rec = list(SeqIO.parse(f, \"fasta\"))\n",
    "    motif = \" \"\n",
    "    n= rec[0].seq\n",
    "    l= len(n)\n",
    "    r = rec[1:]\n",
    "    for i in range(l):\n",
    "        for x in r:\n",
    "            l= len(motif)\n",
    "            sub = i-l\n",
    "            if n[sub:i+1] not in x.seq:\n",
    "                break\n",
    "        else:\n",
    "            motif = n[i-l:i+1]\n",
    "    print(motif)"
   ]
  },
  {
   "cell_type": "markdown",
   "metadata": {},
   "source": [
    "# 7.perm"
   ]
  },
  {
   "cell_type": "code",
   "execution_count": null,
   "metadata": {},
   "outputs": [],
   "source": [
    "import numpy as np\n",
    "import itertools\n",
    "from more_itertools import distinct_permutations\n",
    "\n",
    "n = 6\n",
    "lis=[list]\n",
    "for i in range(1,n+1):\n",
    "  lis.append(i)\n",
    "\n",
    "res = list(distinct_permutations(range(1,int(n)+1)))\n",
    "print(len(res))\n",
    "count = 0\n",
    "for i in res:\n",
    "    count += 1\n",
    "    for x in range(n): \n",
    "        l = n-1\n",
    "        if x < l: \n",
    "          print(str(i[x]), end =\" \")\n",
    "        else:\n",
    "         print(str(i[x]))"
   ]
  },
  {
   "cell_type": "markdown",
   "metadata": {},
   "source": [
    "# 8. revp"
   ]
  },
  {
   "cell_type": "code",
   "execution_count": null,
   "metadata": {},
   "outputs": [],
   "source": [
    "\n",
    "from Bio import SeqIO      \n",
    "dna_string = open('rosalind_revp-4.txt').read().strip()\n",
    "s= 'TCAATGCATGCGGGTCTATATGCAT'\n",
    "s_complement= []\n",
    "def reverse(dna):\n",
    "    reverse = dna[::-1]\n",
    "for i in s:\n",
    "    if i == 'T':\n",
    "        s_complement.append('A')\n",
    "    if i == 'A':\n",
    "        s_complement.append('T')\n",
    "    if i == 'C':\n",
    "        s_complement.append('G')\n",
    "    if i == 'G':\n",
    "        s_complement.append('C')\n",
    "    res=s_complement[::-1]\n",
    "print(''.join(res))   # res is to get reverse and complement dna sequence\n",
    "\n",
    "# range 4-12\n",
    "dic = {'G':'C','C':'G','A':'T','T':'A'}\n",
    "n = len(s)\n",
    "for i in range(n-1):\n",
    "    for j in range(min(n, i+12), i+3, -1):\n",
    "        temp = s[i:j]\n",
    "        r = ''\n",
    "        for k in temp:\n",
    "            r += dic[k]\n",
    "        r_compl=r[::-1]\n",
    "        \n",
    "        if temp == r_compl :\n",
    "              print(i+1,j-i)\n",
    "\n",
    "  "
   ]
  },
  {
   "cell_type": "markdown",
   "metadata": {},
   "source": [
    "# 9.lexf"
   ]
  },
  {
   "cell_type": "code",
   "execution_count": null,
   "metadata": {},
   "outputs": [],
   "source": [
    "from itertools import product\n",
    "with open(\"rosalind_lexf.txt\", 'r') as f:\n",
    "     string = f.readline().split()\n",
    "     n=4\n",
    "     n = int(f.readline())\n",
    "     \n",
    "     result = product(string, repeat = 4)\n",
    "     \n",
    "     for x in result:\n",
    "      res = ''.join(x)\n",
    "      print(res+'')"
   ]
  },
  {
   "cell_type": "markdown",
   "metadata": {},
   "source": [
    "# 10.lgis"
   ]
  },
  {
   "cell_type": "code",
   "execution_count": 13,
   "metadata": {},
   "outputs": [
    {
     "ename": "IndexError",
     "evalue": "list index out of range",
     "output_type": "error",
     "traceback": [
      "\u001b[0;31m---------------------------------------------------------------------------\u001b[0m",
      "\u001b[0;31mIndexError\u001b[0m                                Traceback (most recent call last)",
      "\u001b[0;32m/var/folders/2f/b023z6hn6ln3fnybd2q7fvv00000gn/T/ipykernel_6628/1266742023.py\u001b[0m in \u001b[0;36m<module>\u001b[0;34m\u001b[0m\n\u001b[1;32m     45\u001b[0m         \u001b[0mnums\u001b[0m \u001b[0;34m=\u001b[0m \u001b[0;34m[\u001b[0m\u001b[0mint\u001b[0m\u001b[0;34m(\u001b[0m\u001b[0mi\u001b[0m\u001b[0;34m)\u001b[0m \u001b[0;32mfor\u001b[0m \u001b[0mi\u001b[0m \u001b[0;32min\u001b[0m \u001b[0mf\u001b[0m\u001b[0;34m.\u001b[0m\u001b[0mreadline\u001b[0m\u001b[0;34m(\u001b[0m\u001b[0;34m)\u001b[0m\u001b[0;34m.\u001b[0m\u001b[0mstrip\u001b[0m\u001b[0;34m(\u001b[0m\u001b[0;34m)\u001b[0m\u001b[0;34m.\u001b[0m\u001b[0msplit\u001b[0m\u001b[0;34m(\u001b[0m\u001b[0;34m\" \"\u001b[0m\u001b[0;34m)\u001b[0m\u001b[0;34m]\u001b[0m\u001b[0;34m\u001b[0m\u001b[0;34m\u001b[0m\u001b[0m\n\u001b[1;32m     46\u001b[0m \u001b[0;34m\u001b[0m\u001b[0m\n\u001b[0;32m---> 47\u001b[0;31m     \u001b[0mLIS\u001b[0m\u001b[0;34m(\u001b[0m\u001b[0mnums\u001b[0m\u001b[0;34m,\u001b[0m \u001b[0mn\u001b[0m\u001b[0;34m)\u001b[0m\u001b[0;34m\u001b[0m\u001b[0;34m\u001b[0m\u001b[0m\n\u001b[0m\u001b[1;32m     48\u001b[0m     \u001b[0mLDS\u001b[0m\u001b[0;34m(\u001b[0m\u001b[0mnums\u001b[0m\u001b[0;34m,\u001b[0m \u001b[0mn\u001b[0m\u001b[0;34m)\u001b[0m\u001b[0;34m\u001b[0m\u001b[0;34m\u001b[0m\u001b[0m\n\u001b[1;32m     49\u001b[0m \u001b[0;34m\u001b[0m\u001b[0m\n",
      "\u001b[0;32m/var/folders/2f/b023z6hn6ln3fnybd2q7fvv00000gn/T/ipykernel_6628/1266742023.py\u001b[0m in \u001b[0;36mLIS\u001b[0;34m(nums, n)\u001b[0m\n\u001b[1;32m     13\u001b[0m         \u001b[0;32mfor\u001b[0m \u001b[0mj\u001b[0m \u001b[0;32min\u001b[0m \u001b[0mrange\u001b[0m\u001b[0;34m(\u001b[0m\u001b[0;36m0\u001b[0m\u001b[0;34m,\u001b[0m\u001b[0mi\u001b[0m\u001b[0;34m)\u001b[0m\u001b[0;34m:\u001b[0m\u001b[0;34m\u001b[0m\u001b[0;34m\u001b[0m\u001b[0m\n\u001b[1;32m     14\u001b[0m             \u001b[0;32mif\u001b[0m \u001b[0mnums\u001b[0m\u001b[0;34m[\u001b[0m\u001b[0mj\u001b[0m\u001b[0;34m]\u001b[0m \u001b[0;34m<\u001b[0m \u001b[0mnums\u001b[0m\u001b[0;34m[\u001b[0m\u001b[0mi\u001b[0m\u001b[0;34m]\u001b[0m\u001b[0;34m:\u001b[0m\u001b[0;34m\u001b[0m\u001b[0;34m\u001b[0m\u001b[0m\n\u001b[0;32m---> 15\u001b[0;31m                 \u001b[0mdp\u001b[0m\u001b[0;34m[\u001b[0m\u001b[0mi\u001b[0m\u001b[0;34m]\u001b[0m \u001b[0;34m=\u001b[0m \u001b[0mmax\u001b[0m\u001b[0;34m(\u001b[0m\u001b[0mdp\u001b[0m\u001b[0;34m[\u001b[0m\u001b[0mi\u001b[0m\u001b[0;34m]\u001b[0m\u001b[0;34m,\u001b[0m \u001b[0mdp\u001b[0m\u001b[0;34m[\u001b[0m\u001b[0mj\u001b[0m\u001b[0;34m]\u001b[0m \u001b[0;34m+\u001b[0m \u001b[0;36m1\u001b[0m\u001b[0;34m)\u001b[0m\u001b[0;34m\u001b[0m\u001b[0;34m\u001b[0m\u001b[0m\n\u001b[0m\u001b[1;32m     16\u001b[0m \u001b[0;34m\u001b[0m\u001b[0m\n\u001b[1;32m     17\u001b[0m                 \u001b[0;32mif\u001b[0m \u001b[0marray\u001b[0m\u001b[0;34m[\u001b[0m\u001b[0mj\u001b[0m\u001b[0;34m]\u001b[0m \u001b[0;34m+\u001b[0m \u001b[0;36m1\u001b[0m \u001b[0;34m>\u001b[0m \u001b[0marray\u001b[0m\u001b[0;34m[\u001b[0m\u001b[0mi\u001b[0m\u001b[0;34m]\u001b[0m\u001b[0;34m:\u001b[0m\u001b[0;34m\u001b[0m\u001b[0;34m\u001b[0m\u001b[0m\n",
      "\u001b[0;31mIndexError\u001b[0m: list index out of range"
     ]
    }
   ],
   "source": [
    "ori_list = [2,3,7,9,6,10,15,14,1,4,5,8,11,12,13]\n",
    "ori_list = [int(x) for x in ori_list]\n",
    "N = len(ori_list)\n",
    "\n",
    "def LIS(nums, n):\n",
    "    dp = [] \n",
    "    dp_list = [] \n",
    "    array = [1]*N\n",
    "\n",
    "    for i in range(1,len(array)):\n",
    "        dp.append(1)\n",
    "        dp_list.append([nums[i]])\n",
    "        for j in range(0,i):\n",
    "            if nums[j] < nums[i]:\n",
    "                dp[i] = max(dp[i], dp[j] + 1)\n",
    "\n",
    "                if array[j] + 1 > array[i]:\n",
    "                    array[i] = array[j] + 1\n",
    "\n",
    "                    dp_list[i] = dp_list[j] + [nums[i]]\n",
    "    \n",
    "    print(max(dp), dp_list[dp.index(max(dp))])\n",
    "    return dp, dp_list\n",
    "\n",
    "# Longest Decreasing Subsequence\n",
    "def LDS(nums, n):\n",
    "    dp = [] \n",
    "    dp_list = [] \n",
    "\n",
    "    for i in range(n):\n",
    "        dp.append(1)\n",
    "        dp_list.append([nums[i]])\n",
    "        for j in range(i):\n",
    "            if nums[j] > nums[i]:\n",
    "                dp[i] = max(dp[i], dp[j] + 1)\n",
    "                if len(dp_list[i]) <= len(dp_list[j]):\n",
    "                    dp_list[i] = dp_list[j] + [nums[i]]\n",
    "   \n",
    "    print(max(dp), dp_list[dp.index(max(dp))])\n",
    "    return dp, dp_list\n",
    "\n",
    "if __name__ == \"__main__\":\n",
    "    with open(\"rosalind_lgis-2.txt\", \"r\") as f:\n",
    "        n = int(f.readline().strip())\n",
    "        nums = [int(i) for i in f.readline().strip().split(\" \")]\n",
    "\n",
    "    LIS(nums, n)\n",
    "    LDS(nums, n)\n",
    "    \n",
    "\n"
   ]
  }
 ],
 "metadata": {
  "kernelspec": {
   "display_name": "Python 3.9.7 ('base')",
   "language": "python",
   "name": "python3"
  },
  "language_info": {
   "codemirror_mode": {
    "name": "ipython",
    "version": 3
   },
   "file_extension": ".py",
   "mimetype": "text/x-python",
   "name": "python",
   "nbconvert_exporter": "python",
   "pygments_lexer": "ipython3",
   "version": "3.9.7"
  },
  "orig_nbformat": 4,
  "vscode": {
   "interpreter": {
    "hash": "5160fc0297c10a87899e409c00e407bc9cd0d02692e9af8a35716bf90520312a"
   }
  }
 },
 "nbformat": 4,
 "nbformat_minor": 2
}
