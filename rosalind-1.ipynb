{
 "cells": [
  {
   "cell_type": "markdown",
   "metadata": {},
   "source": [
    "# 1. DNA "
   ]
  },
  {
   "cell_type": "code",
   "execution_count": null,
   "metadata": {},
   "outputs": [],
   "source": [
    "DNA_seq = ('TCCGCTAAGTCGGCTCTTCAATGTTAGAAATATCCGGTCTGAGCTGAGAGCCAATATGGATGTGTCAGCCGCTCACCGAGAAAATTAGTTGTCGATAAAATGGCAATACAACCTTCAACGGGCGTCTGGCGTCAAACCTAACGCTCGCTCATTAAAATTGGGTTCCGCGAACTTTCTCAGCCATTCTATGCTATGGGTTTTCACATCCAGCCCACTCCTAGCGATCGGTGCTTGACGCACCGAAGGGAGAAACATTCTTTGTCCACCTTCTTGATTTCTATAGGACTATCCATTAAGTCTTGAACGAGAGGTAGTTGTCCTCCGATGGTTAGCTTGGGGGTGCCGAAAAGGTATTTTGGCATGATATGGTCACTGCGTAGCCCTGCAGCTCTTGCTGAGTCATGTGCCCGCGGGATATTAGGGTTTTCGGACACATAGACGAATCTGGCTAAGGTGGAGGAATCGCGTAGTTTAGTTTGCAATGATAGGTAGACCTTAAAACCGAGGCACAGAGCCTACAAGTCGAATTGGATTTACTGTCCGAAATCGATAAGTTACTTAGCGTTATTTTAAACCACCACATTCCTGTTGGTAATTAGAGGTGAACGTAGATGAGTGGTTGGGCTAGTTTTTTGGTTATCAGACGCCACCCCTGATTTTAGTCGGAACCCAACACCGACAGGCCATCCCGGCGTAAACGCTAATAGGGGGATAAACGCCTTGTTCCACGGGCCACGAATAGATTGCGCAGAATCTAGTCCCGAACACAATCGTACATGTGGCGGGCCTTGAATTTTTGTTCGCAGGCGTGGCAACCCTAACTCTTCGCCTAGGTTCATTAGTGGGGATGATCGTAAGTCAGAAGTCACACCCCCTAAGCCTACGGAGATCTGGAACCGCGGAGAAAGTGCCTCCCTAGCTACATTTTATGAATTAACCTGGGGACG')\n",
    "\n",
    "frequency = { 'A' : 0, 'T': 0,'C':  0, 'G': 0}\n",
    "for nucleotide_seq in DNA_seq:\n",
    "    frequency[nucleotide_seq] += 1\n",
    "print(frequency['A'],frequency['C'],frequency['G'],frequency['T'])"
   ]
  },
  {
   "cell_type": "markdown",
   "metadata": {},
   "source": [
    "# 2. RNA"
   ]
  },
  {
   "cell_type": "code",
   "execution_count": null,
   "metadata": {},
   "outputs": [],
   "source": [
    "DNA = ('TATTGGCCACGATCTATAAAGTCCATTCGTCAATTATCTAAGGAAACCAGTGTTGAATAGGAATTGGGTGGGTTCTCAGCGATAGATAAAACAGTGAACCGATACAGCCTTTACCCAGCCTAATCTACGCCCTGAATCTCTGACAGGCATACTCTAGAGGGATGCAATATTATAAGAGTGCTCCGGTGAAAGGCGTCGTGAGATATCTACCCATGCTGTCCCAGTTTAGAGCCTAAGATACCCCTATGAAGAGACGGGTTTCGGGGGGGCTCCGAATTACCTACTACGTACAGTTATCAACTTCTGCGAAAAAATAGCCCGGTAACGCCTAGCAGGTCTTAAATCTATGCATCCCACTTTGTCCGCAGACCAGCTCCCACACGAGGGTCCAGATAAATCTCCGCGTAAACGGACCGTTTTTCTGAGGTCAACGTCCAGGGTATTTGTGTGGTAAGGAGTCACAGGATTTATGACGAGAACTCCATAAACAGGGTAATATGACTTAAAGATTTCACGTATCGGATTCGTTTGAAGAGGATCTCAGTTCACGACCCTTGGCGTTGGCAGGAACCCGCATTGCACGCTTGCGCTCGTTCTTCGTCGTTCCAGTATTGTCGTGCTAGCAGACCTACTCACTGTCAGGGCCACGGTCAGGCACCAGATAGTTTCAAAAGATGAGTCTAAGTCGGGAATAGGAGGTCCCTGGCAAGGTTATTTGGTGATTTCGATAGGATGAACCGGGTAACCTACTCTTGGAGCGAGATAACGTGTGATCCACCTTCATGCAAATCGAGTTCTATTCGATTATCATAGTCGTGTAGCATTGCCTCTTGCTCGGGGTGGAGATCTCCTCGACGATCGTAAGGACTAGCTATTAGAAAGACCCACTCACCAGGTTCCGAAATAATTAATAAAACGTGCTCATTGTCAACCACCTTCATCCCGTGCGCAGTTGCGCCAAGCCTAATAAGTAAAGCA')\n",
    "DNA_into_RNA = DNA.replace('T','U')\n",
    "print(DNA_into_RNA)"
   ]
  },
  {
   "cell_type": "markdown",
   "metadata": {},
   "source": [
    "# 3. REVC"
   ]
  },
  {
   "cell_type": "code",
   "execution_count": null,
   "metadata": {},
   "outputs": [],
   "source": [
    "s = ('CAGGACTGTGTCGAATCTCCGCCGCATGGCTTGAGTTATAACACTTATGAAAACTTGCGTACGGCTATCTCTGCACCAGCTTTATAGGGGCCACAGCCATCGCTACATAGAGATCGCGTCCTTATTGATCCGTCCTACCACCGCCCTACTGGGTGCGCTTTCTTACCTGTCCTCCCGTATAAAGGCCAGGATAAGCCATGGAATCCGTCCTTACCGATGCCCTCTTTGCCTTTTGGCAAATACATTACGTTCAGGCCGAAGACTGAAAAAGAAATAGTTACTAGTTCGCAACATAAGGTCGGATGTCGATAAACTGAGCTTTAGTTCTTACTTACCCATAATGAGCGGCGGGCCCTGTGACAGACGTCGTCGAGTGAGGGTATCGAATTAAAAACCGACCAAAACGCGTATATGCCGCACGCAGTATCGTAGTATCTTGTCGTCGCATGGTCCGCTTTCTATGCGTATTTCGGTATCGACACCCCCACGGGCCACCATAAAGGTATACAATCGCATCTTTCTACTATACGGCTCTTAATCGGAGTTCGCGAACGTCGTTCGAACGCGAGTATGGCACCACACGCGTACCGTTCTTGACCCAAACTGGTCATTTACTGTTTATTGTCCGCGAACGGGGCTATTGCACGCTTCTCGCCTAAGGTGATGGAAGCCAGTTCAACTCGCTGCGCGAGGATAATCGGACCCTTGAGAGCGACATAGTACCATCAAAAAGCAGTGGTTTGACTGGCAAAAGAGACCCTAGATTGTCGATACCGCCAACTTAAGGTGATGGTCGCAGGCCGGACGTGTGCCTTAGGGCTATTTACATGATTCTACACCTAC')\n",
    "s_complement= []\n",
    "def reverse(dna):\n",
    "    reverse = dna[::-1]\n",
    "for i in s:\n",
    "    if i == 'T':\n",
    "        s_complement.append('A')\n",
    "    if i == 'A':\n",
    "        s_complement.append('T')\n",
    "    if i == 'C':\n",
    "        s_complement.append('G')\n",
    "    if i == 'G':\n",
    "        s_complement.append('C')\n",
    "    res=s_complement[::-1]\n",
    "print(''.join(res))"
   ]
  },
  {
   "cell_type": "markdown",
   "metadata": {},
   "source": [
    "# 4. IPRB"
   ]
  },
  {
   "cell_type": "code",
   "execution_count": null,
   "metadata": {},
   "outputs": [],
   "source": [
    "k,m,n = 29 ,30,17  \n",
    "#k = homozygous dominant = AA                                                   \n",
    "# m= heterozygous = Aa                                                    \n",
    "# n= homozygous recessive = aa                                                 \n",
    "population = k + m + n  # tree diagram\n",
    "# first calculate the probability both parents are homoz. dominant(AA)\n",
    "# then with Punnett Square find the probability to have dominant progeny\n",
    "P = (4*(k*(k-1)+2*k*m+2*k*n+m*n)+3*m*(m-1))/(4*population*(population-1))\n",
    "print(P)"
   ]
  },
  {
   "cell_type": "markdown",
   "metadata": {},
   "source": [
    "# 5. GC "
   ]
  },
  {
   "cell_type": "code",
   "execution_count": null,
   "metadata": {},
   "outputs": [],
   "source": [
    "f = open('rosalind_gc-3.txt', 'r')\n",
    "data = f.read()\n",
    "\n",
    "list = data.split('>')\n",
    "res = {}\n",
    "for i in list:\n",
    "    if len(i) > 0:\n",
    "        temp = ''.join(i[13:].split())\n",
    "        count_c= temp.count('C')\n",
    "        count_g=temp.count('G')\n",
    "        n= len(temp)\n",
    "        perc = 100*(count_c+count_g)/n\n",
    "        res[perc] = i[:13]\n",
    "final= res[max(res)]\n",
    "print(final)\n",
    "print(max(res))\n",
    "\n",
    "f.close()"
   ]
  },
  {
   "cell_type": "markdown",
   "metadata": {},
   "source": [
    "# 6. SUBS"
   ]
  },
  {
   "cell_type": "code",
   "execution_count": null,
   "metadata": {},
   "outputs": [],
   "source": [
    "def loc(s_t):\n",
    "    results = []\n",
    "    s, t = s_t.split()\n",
    "    n=len(s)\n",
    "\n",
    "    for i in range(n):\n",
    "        if s[i:].startswith(t):\n",
    "            results.append(i + 1)\n",
    "\n",
    "    return results\n",
    "\n",
    "\n",
    "if __name__ == \"__main__\":\n",
    "    dataset = open('rosalind_subs.txt').read()\n",
    "\n",
    "    results = loc(dataset)\n",
    "\n",
    "    print (' '.join(map(str, results)))"
   ]
  },
  {
   "cell_type": "markdown",
   "metadata": {},
   "source": [
    "# 7. LIA"
   ]
  },
  {
   "cell_type": "code",
   "execution_count": null,
   "metadata": {},
   "outputs": [],
   "source": [
    "#used binomial distribution\n",
    "import math                                                                    \n",
    "k = 6                                                                          \n",
    "N = 15   \n",
    "# probability of progeny to have genotype AaBb \n",
    "P = 2**k                                                                      \n",
    "probability = 0               \n",
    "\n",
    "for i in range(N, P + 1):                                                      \n",
    "    prob = (math.factorial(P) /(math.factorial(i) * math.factorial(P - i)) )\n",
    "    pos = 0.25**i\n",
    "    neg = 0.75**(P-i)\n",
    "    res= pos*neg\n",
    "    probability += prob *res                                                    \n",
    "print(probability)"
   ]
  },
  {
   "cell_type": "markdown",
   "metadata": {},
   "source": [
    "# 8. IEV"
   ]
  },
  {
   "cell_type": "code",
   "execution_count": null,
   "metadata": {},
   "outputs": [],
   "source": [
    "# probabilities of dominant genotype\n",
    "# AA-AA = 1\n",
    "# AA-Aa = 1\n",
    "# AA-aa = 1\n",
    "# Aa-Aa = 0.75\n",
    "# Aa-aa = 0.5\n",
    "# aa-aa = 0\n",
    "probability = [1,1,1,0.75,0.5,0]\n",
    "\n",
    "def find_offspring(l):\n",
    "    pop = 1*l[0] + 1*l[1] + 1*l[2] + 0.75*l[3] + 0.5*l[4] + 0*l[5]\n",
    "    offspring = (pop) * 2\n",
    "    return offspring \n",
    "\n",
    "if __name__ == \"__main__\":\n",
    "    with open(\"rosalind_iev-2.txt\", \"r\") as f:\n",
    "        l = [float(i) for i in f.readline().strip().split(\" \")]\n",
    "    print(find_offspring(l))"
   ]
  },
  {
   "cell_type": "markdown",
   "metadata": {},
   "source": [
    "# 9. CONS\n"
   ]
  },
  {
   "cell_type": "code",
   "execution_count": null,
   "metadata": {},
   "outputs": [],
   "source": [
    "from Bio import SeqIO\n",
    "from collections import Counter\n",
    "import pandas as pd\n",
    "filename = \"rosalind_cons-2.txt\"\n",
    "seq_dict = dict()\n",
    "\n",
    "with open(filename) as f:\n",
    "    line_list = f.read().splitlines()\n",
    "\n",
    "lst = []\n",
    "for x in SeqIO.parse('rosalind_cons-2.txt', 'fasta'):\n",
    "    lst.append(x.seq)\n",
    "\n",
    "lst_cnt = []\n",
    "for pos in range(len(lst[0])):\n",
    "    new_lst = []\n",
    "    for seq in lst:\n",
    "        new_lst.append(seq[pos])\n",
    "        \n",
    "    lst_cnt.append(Counter(new_lst))\n",
    "\n",
    "for pos in range(len(lst_cnt)):\n",
    "    print(lst_cnt[pos].most_common()[0][0], end='')\n",
    "\n",
    "print()\n",
    "\n",
    "dft = pd.DataFrame(lst_cnt, columns=['A', 'C', 'G', 'T']).fillna(0).T\n",
    "for symbol in ['A', 'C', 'G', 'T']:\n",
    "    print(symbol, end=': ')\n",
    "    dft.loc[symbol].apply(lambda row: print(int(row), end=' '))\n",
    "    print()"
   ]
  },
  {
   "cell_type": "markdown",
   "metadata": {},
   "source": [
    "# 10. PROB"
   ]
  },
  {
   "cell_type": "code",
   "execution_count": null,
   "metadata": {},
   "outputs": [],
   "source": [
    "import math\n",
    "\n",
    "with open(\"rosalind_prob.txt\", \"r\") as f:\n",
    "    s = f.readline().strip()\n",
    "    A = map(float, f.readline().strip().split(\" \"))\n",
    "prob_dict={'A':0,'C':0,'G':0,'T':0,}\n",
    "a = s.count('A') + s.count('T')\n",
    "c = s.count('C') + s.count('G')\n",
    "for i in A:\n",
    "    prob_dict['A'] = math.log((1-i)/2, 10)\n",
    "    prob_dict['C'] = math.log((i)/2, 10)\n",
    "    prob_dict['G'] = math.log((i)/2, 10)\n",
    "    prob_dict['T'] = math.log((1-i)/2, 10)\n",
    "    prob = a * math.log((1-i)/2, 10) + c * math.log(i/2, 10)\n",
    "    print(prob, end=\" \")"
   ]
  }
 ],
 "metadata": {
  "kernelspec": {
   "display_name": "Python 3.9.7 ('base')",
   "language": "python",
   "name": "python3"
  },
  "language_info": {
   "codemirror_mode": {
    "name": "ipython",
    "version": 3
   },
   "file_extension": ".py",
   "mimetype": "text/x-python",
   "name": "python",
   "nbconvert_exporter": "python",
   "pygments_lexer": "ipython3",
   "version": "3.9.7"
  },
  "orig_nbformat": 4,
  "vscode": {
   "interpreter": {
    "hash": "5160fc0297c10a87899e409c00e407bc9cd0d02692e9af8a35716bf90520312a"
   }
  }
 },
 "nbformat": 4,
 "nbformat_minor": 2
}
