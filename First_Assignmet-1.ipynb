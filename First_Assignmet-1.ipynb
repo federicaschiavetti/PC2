{
 "cells": [
  {
   "cell_type": "markdown",
   "metadata": {},
   "source": [
    "# Basic Data Types"
   ]
  },
  {
   "cell_type": "markdown",
   "metadata": {},
   "source": [
    "1.Find the Runner-Up Score!"
   ]
  },
  {
   "cell_type": "code",
   "execution_count": null,
   "metadata": {},
   "outputs": [],
   "source": [
    "if __name__ == '__main__':\n",
    "    n = int(input())\n",
    "    arr_in = input()\n",
    "    arr_split = arr_in.split()\n",
    "    arr = [int(n) for n in arr_split]\n",
    "    print(sorted(set(arr))[-2])"
   ]
  },
  {
   "cell_type": "markdown",
   "metadata": {},
   "source": [
    "2.Nested Lists"
   ]
  },
  {
   "cell_type": "code",
   "execution_count": null,
   "metadata": {},
   "outputs": [],
   "source": [
    "n = int(input())\n",
    "name , score= [],[]\n",
    "score_l = []\n",
    "final_l =[]\n",
    "\n",
    "if __name__ == '__main__': \n",
    "  for _ in range(n):\n",
    "    name = input()\n",
    "    score = float(input())\n",
    "    score_l+=([score])\n",
    "    final_l.append([name,score])\n",
    "\n",
    "    score_l=list(dict.fromkeys(score_l))\n",
    "b = sorted(score_l)[1]  \n",
    "for a,c in sorted(final_l):\n",
    "    if c==b:\n",
    "        print(a)"
   ]
  },
  {
   "cell_type": "markdown",
   "metadata": {},
   "source": [
    "3.Finding the percentage"
   ]
  },
  {
   "cell_type": "code",
   "execution_count": null,
   "metadata": {},
   "outputs": [],
   "source": [
    "if __name__ == '__main__':\n",
    "    n = int(input())\n",
    "    student_marks = {}\n",
    "    for _ in range(n):\n",
    "        name, *line = input().split()\n",
    "        scores = list(map(float, line))\n",
    "        student_marks[name] = scores\n",
    "    \n",
    "    marks= scores\n",
    "    total_marks = sum(marks)\n",
    "    avg= total_marks/3\n",
    "    query_name = input()\n",
    "    marks=student_marks[query_name]\n",
    "    \n",
    "    print(format(sum(marks)/3,\".2f\"))\n"
   ]
  },
  {
   "cell_type": "markdown",
   "metadata": {},
   "source": [
    "4.Lists"
   ]
  },
  {
   "cell_type": "code",
   "execution_count": null,
   "metadata": {},
   "outputs": [],
   "source": [
    "if __name__ == '__main__':\n",
    "    n = int(input())\n",
    "    num_list=[]\n",
    "    \n",
    "    for i in range(n):\n",
    "        string= input().split()\n",
    "        command=string[0]\n",
    "        args=string[1:]\n",
    "        if command != \"print\":\n",
    "            command+=\"(\"+\",\".join(args)+\")\"\n",
    "            eval(\"num_list.\"+ command)\n",
    "        else:\n",
    "            print(num_list)\n",
    "            "
   ]
  },
  {
   "cell_type": "markdown",
   "metadata": {},
   "source": [
    "5.Tuples(solved with pypy3)"
   ]
  },
  {
   "cell_type": "code",
   "execution_count": 3,
   "metadata": {},
   "outputs": [],
   "source": [
    "if __name__ == '__main__':\n",
    "    n = int(input())\n",
    "    integer_list = map(int, input().split())\n",
    "    tup = tuple(integer_list)\n",
    "    for x in integer_list:\n",
    "        tup+=(x,)\n",
    "print(hash(tup))"
   ]
  },
  {
   "cell_type": "markdown",
   "metadata": {},
   "source": [
    "# Strings"
   ]
  },
  {
   "cell_type": "markdown",
   "metadata": {},
   "source": [
    "1.String Split And Join"
   ]
  },
  {
   "cell_type": "code",
   "execution_count": null,
   "metadata": {},
   "outputs": [],
   "source": [
    "def split_and_join(line):\n",
    "    row = line.split(\" \")\n",
    "    row = \"-\".join(row)\n",
    "    return row\n",
    "if __name__ == '__main__':\n",
    "    line = input()\n",
    "    result = split_and_join(line)\n",
    "    print(result)\n",
    "    "
   ]
  },
  {
   "cell_type": "markdown",
   "metadata": {},
   "source": [
    "2.Mutations "
   ]
  },
  {
   "cell_type": "code",
   "execution_count": null,
   "metadata": {},
   "outputs": [],
   "source": [
    "def mutate_string(string, position, character):\n",
    "    a = list(string)\n",
    "    a[position] = character\n",
    "    return (''.join(a))\n",
    "    \n",
    "if __name__ == '__main__':\n",
    "    s = input()\n",
    "    i, c = input().split()\n",
    "    s_new = mutate_string(s, int(i), c)\n",
    "    print(s_new)"
   ]
  },
  {
   "cell_type": "markdown",
   "metadata": {},
   "source": [
    "3.Text Wrap"
   ]
  },
  {
   "cell_type": "code",
   "execution_count": null,
   "metadata": {},
   "outputs": [],
   "source": [
    "import textwrap\n",
    "\n",
    "def wrap(string, max_width):\n",
    "    return textwrap.fill(string,max_width)\n",
    "\n",
    "if __name__ == '__main__':\n",
    "    string, max_width = input(), int(input())\n",
    "    result = wrap(string, max_width)\n",
    "    print(result)"
   ]
  },
  {
   "cell_type": "markdown",
   "metadata": {},
   "source": [
    "4.Alphabet Rangoli"
   ]
  },
  {
   "cell_type": "code",
   "execution_count": null,
   "metadata": {},
   "outputs": [],
   "source": [
    "def print_rangoli(size):\n",
    "    n = size\n",
    "    alphabeth='abcdefghijklmnopqrstuvwxyz'\n",
    "    data = [alphabeth[i] for i in range(n)]\n",
    "    \n",
    "    width = 4*size-3\n",
    "    items = list(range(n))\n",
    "    items = items[:-1]+items[::-1]\n",
    "    \n",
    "    for i in items:\n",
    "        start = i+1\n",
    "        o = data[-start:]\n",
    "        row = o[::-1]+o[1:]\n",
    "        \n",
    "        row = '-'.join(row)\n",
    "        row = row.center(width,'-')\n",
    "        print(row)\n",
    "        \n",
    "if __name__ == '__main__':\n",
    "    n = int(input())\n",
    "    print_rangoli(n)"
   ]
  },
  {
   "cell_type": "markdown",
   "metadata": {},
   "source": [
    "# Sets"
   ]
  },
  {
   "cell_type": "markdown",
   "metadata": {},
   "source": [
    "1.Set .add()"
   ]
  },
  {
   "cell_type": "code",
   "execution_count": null,
   "metadata": {},
   "outputs": [],
   "source": [
    "s = set()\n",
    "n= int(input())\n",
    "for i in range(n):\n",
    "    b=input()\n",
    "    s.add(b)\n",
    "print(len(s))"
   ]
  },
  {
   "cell_type": "markdown",
   "metadata": {},
   "source": [
    "2.Set .discard(), .remove() & .pop()"
   ]
  },
  {
   "cell_type": "code",
   "execution_count": null,
   "metadata": {},
   "outputs": [],
   "source": [
    "n = int(input())\n",
    "s = set(map(int, input().split()))\n",
    "b= int(input())\n",
    "\n",
    "for i in range(b):\n",
    "    cmd = input().split()\n",
    "    if cmd[0] == 'pop':\n",
    "        s.pop()\n",
    "    if cmd[0] == 'remove':\n",
    "        s.remove(int(cmd[1]))\n",
    "    if cmd[0] == 'discard':\n",
    "        s.discard(int(cmd[1]))\n",
    "print(sum(s))\n"
   ]
  },
  {
   "cell_type": "markdown",
   "metadata": {},
   "source": [
    "3.Set .union() Operation"
   ]
  },
  {
   "cell_type": "code",
   "execution_count": null,
   "metadata": {},
   "outputs": [],
   "source": [
    "l =[]\n",
    "e = int(input())\n",
    "eng = set(map(int,input().rstrip().split()))\n",
    "f= int(input())\n",
    "french = set(map(int,input().rstrip().split()))\n",
    "print(len(eng.union(french)))"
   ]
  },
  {
   "cell_type": "markdown",
   "metadata": {},
   "source": [
    "4.Set .intersection() Operation"
   ]
  },
  {
   "cell_type": "code",
   "execution_count": null,
   "metadata": {},
   "outputs": [],
   "source": [
    "N1 = int(input())\n",
    "storage1 = set(input().split())\n",
    "\n",
    "N2 = int(input())\n",
    "storage2 = set(input().split())\n",
    "\n",
    "print(len(storage2.intersection(storage1)))"
   ]
  },
  {
   "cell_type": "markdown",
   "metadata": {},
   "source": [
    "# Math"
   ]
  },
  {
   "cell_type": "markdown",
   "metadata": {},
   "source": [
    "1.Find Angle MBC"
   ]
  },
  {
   "cell_type": "code",
   "execution_count": null,
   "metadata": {},
   "outputs": [],
   "source": [
    "import math\n",
    "ab=int(input())\n",
    "bc=int(input())\n",
    "\n",
    "ca=math.hypot(ab,bc)\n",
    "mc=ca/2\n",
    "am = bc/2\n",
    "\n",
    "bca=math.asin(1*ab/ca)\n",
    "bm=math.sqrt((bc**2+mc**2)-(2*bc*mc*math.cos(bca)))\n",
    "\n",
    "MBC = math.atan(ab/bc)\n",
    "print(int(round(math.degrees(MBC),0)),chr(176),sep='')"
   ]
  },
  {
   "cell_type": "markdown",
   "metadata": {},
   "source": [
    "2.Mod Divmod"
   ]
  },
  {
   "cell_type": "code",
   "execution_count": null,
   "metadata": {},
   "outputs": [],
   "source": [
    "a = int(input())\n",
    "b = int(input())\n",
    "\n",
    "print(a//b)\n",
    "print(a%b)\n",
    "print(divmod(a,b))"
   ]
  },
  {
   "cell_type": "markdown",
   "metadata": {},
   "source": [
    "3.Power - Mod Power"
   ]
  },
  {
   "cell_type": "code",
   "execution_count": null,
   "metadata": {},
   "outputs": [],
   "source": [
    "a = int(input())\n",
    "b=int(input())\n",
    "m=int(input())\n",
    "import math\n",
    "c =math.pow(a,b)\n",
    "print(int(c))\n",
    "\n",
    "print(pow(a,b,m))\n"
   ]
  },
  {
   "cell_type": "markdown",
   "metadata": {},
   "source": [
    "4.Integers Come In All Sizes"
   ]
  },
  {
   "cell_type": "code",
   "execution_count": null,
   "metadata": {},
   "outputs": [],
   "source": [
    "if __name__ == \"__main__\":\n",
    "    a = int(input())\n",
    "    b = int(input())\n",
    "    c = int(input())\n",
    "    d = int(input())\n",
    "   \n",
    "    ab= a**b\n",
    "    cd= c**d\n",
    "    \n",
    "    tot= ab + cd\n",
    "    \n",
    "    print(tot)\n"
   ]
  },
  {
   "cell_type": "markdown",
   "metadata": {},
   "source": [
    "# Itertools\n"
   ]
  },
  {
   "cell_type": "markdown",
   "metadata": {},
   "source": [
    "1.itertools.product()"
   ]
  },
  {
   "cell_type": "code",
   "execution_count": null,
   "metadata": {},
   "outputs": [],
   "source": [
    "from itertools import product\n",
    " \n",
    "a = list(map(int, input().split()))\n",
    "b = list(map(int, input().split()))\n",
    "\n",
    "res = list(product(a,b))\n",
    "print(*res)"
   ]
  },
  {
   "cell_type": "markdown",
   "metadata": {},
   "source": [
    "2.itertools.permutations()"
   ]
  },
  {
   "cell_type": "code",
   "execution_count": null,
   "metadata": {},
   "outputs": [],
   "source": [
    "from itertools import permutations\n",
    "\n",
    "s,k = input().split()\n",
    "\n",
    "words = list(permutations(sorted(s),int(k)))\n",
    "\n",
    "for i in words:\n",
    "    print(''.join(i))"
   ]
  },
  {
   "cell_type": "markdown",
   "metadata": {},
   "source": [
    "3.Compress the String!"
   ]
  },
  {
   "cell_type": "code",
   "execution_count": null,
   "metadata": {},
   "outputs": [],
   "source": [
    "from itertools import groupby\n",
    "io = input()\n",
    "for i,j in groupby(io):\n",
    "    res = len(list(j)),int(i)\n",
    "    print(*[res],end= ' ')"
   ]
  },
  {
   "cell_type": "markdown",
   "metadata": {},
   "source": [
    "4.Iterables and Iterators"
   ]
  },
  {
   "cell_type": "code",
   "execution_count": null,
   "metadata": {},
   "outputs": [],
   "source": [
    "from itertools import combinations\n",
    " \n",
    "n=input()\n",
    "s=list(input().split())\n",
    "k=int(input())\n",
    "\n",
    "c=0\n",
    "res = list(combinations(s,k))\n",
    "for i in combinations(s,k):\n",
    "    if 'a' in i :\n",
    "        c+=1\n",
    "        \n",
    "print(c/len(res))"
   ]
  },
  {
   "cell_type": "markdown",
   "metadata": {},
   "source": [
    "# Collections"
   ]
  },
  {
   "cell_type": "markdown",
   "metadata": {},
   "source": [
    "1.collections.Counter()"
   ]
  },
  {
   "cell_type": "code",
   "execution_count": null,
   "metadata": {},
   "outputs": [],
   "source": [
    "from collections import Counter\n",
    "X=input()\n",
    "size=input().split()\n",
    "N=int(input())\n",
    "sums = 0\n",
    "buyer=[]\n",
    "for i in range(N):\n",
    "    add = input().split()\n",
    "    buyer.append(add)\n",
    "shoes=Counter(size)\n",
    "\n",
    "for i in buyer:\n",
    "    if i[0] in shoes.keys()  :\n",
    "      if shoes[i[0]] != 0:\n",
    "        sums+=int(i[1])\n",
    "        shoes[i[0]]-= 1\n",
    "print(sums)"
   ]
  },
  {
   "cell_type": "markdown",
   "metadata": {},
   "source": [
    "2.DefaultDict Tutorial"
   ]
  },
  {
   "cell_type": "code",
   "execution_count": null,
   "metadata": {},
   "outputs": [],
   "source": [
    "from collections import defaultdict\n",
    "\n",
    "n, m = map(int,input().split())\n",
    "a = defaultdict(list)\n",
    "\n",
    "for i in range(1, n + 1):\n",
    "    a[input()].append(i)\n",
    "\n",
    "for i in range(1, m + 1):\n",
    "    b = input()\n",
    "    \n",
    "    if b in a.keys():\n",
    "        print(*a[b])\n",
    "    else:\n",
    "        print(-1)\n"
   ]
  },
  {
   "cell_type": "markdown",
   "metadata": {},
   "source": [
    "3.Word Order"
   ]
  },
  {
   "cell_type": "code",
   "execution_count": null,
   "metadata": {},
   "outputs": [],
   "source": [
    "from collections import Counter\n",
    "l=[]\n",
    "x = int(input())\n",
    "for i in range(x):\n",
    "    y = input()\n",
    "    l.append(y)\n",
    "\n",
    "c = Counter(l)\n",
    "print(len(c))\n",
    "for i in c:\n",
    "    \n",
    "   print(c.get(i),end=' ')"
   ]
  },
  {
   "cell_type": "markdown",
   "metadata": {},
   "source": [
    "4.Collections.deque()"
   ]
  },
  {
   "cell_type": "code",
   "execution_count": null,
   "metadata": {},
   "outputs": [],
   "source": [
    "from collections import deque\n",
    "\n",
    "d = deque()\n",
    "for i in range(int(input())):\n",
    "    a = input().split()\n",
    "    if 'append' in a:\n",
    "        d.append(a[1])\n",
    "    elif 'appendleft' in a:\n",
    "        d.appendleft(a[1])\n",
    "    elif 'popleft' in a:\n",
    "        d.popleft()\n",
    "    elif 'pop' in a:\n",
    "        d.pop()\n",
    "print(*d)\n"
   ]
  }
 ],
 "metadata": {
  "kernelspec": {
   "display_name": "Python 3.9.7 ('base')",
   "language": "python",
   "name": "python3"
  },
  "language_info": {
   "codemirror_mode": {
    "name": "ipython",
    "version": 3
   },
   "file_extension": ".py",
   "mimetype": "text/x-python",
   "name": "python",
   "nbconvert_exporter": "python",
   "pygments_lexer": "ipython3",
   "version": "3.9.7"
  },
  "orig_nbformat": 4,
  "vscode": {
   "interpreter": {
    "hash": "5160fc0297c10a87899e409c00e407bc9cd0d02692e9af8a35716bf90520312a"
   }
  }
 },
 "nbformat": 4,
 "nbformat_minor": 2
}
