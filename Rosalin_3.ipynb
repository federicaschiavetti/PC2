{
 "cells": [
  {
   "cell_type": "markdown",
   "metadata": {},
   "source": [
    "# 1.grph "
   ]
  },
  {
   "cell_type": "code",
   "execution_count": null,
   "metadata": {},
   "outputs": [],
   "source": [
    "from Bio import SeqIO\n",
    "k = 3\n",
    "file = 'rosalind_grph.txt'\n",
    "name = []\n",
    "c=0\n",
    "for rec in SeqIO.parse(file,'fasta'):\n",
    "    rec = list(SeqIO.parse(file, 'fasta'))\n",
    "for x in rec:\n",
    "    for j in rec:\n",
    "        name1 = x.id\n",
    "        name2 = j.id\n",
    "        name.append(x[1:])\n",
    "        sequence1 = str(x.seq)\n",
    "        sequence2 = str(j.seq)\n",
    "        suffixStrings = [string[-3::] for string in file]\n",
    "        prefixStrings = [string[:3] for string in file]\n",
    "\n",
    "        if sequence1 == sequence2:\n",
    "            continue\n",
    "\n",
    "        suffix = sequence1[-k:]\n",
    "        prefix = sequence2[:k]\n",
    "        if prefix == suffix :\n",
    "            print(name1, name2)"
   ]
  },
  {
   "cell_type": "markdown",
   "metadata": {},
   "source": [
    "# 2.mprt "
   ]
  },
  {
   "cell_type": "code",
   "execution_count": null,
   "metadata": {},
   "outputs": [],
   "source": [
    "from tools import read_local_file, read_fasta_file, find_indices_of_matches\n",
    "def solve(path):\n",
    "    ids = read_local_file(path)\n",
    "    N_glycosylation_motif = 'N[^P][ST][^P]'\n",
    "    for uniProtID in ids:\n",
    "        url = 'http://www.uniprot.org/uniprot/{0}.fasta'.format(uniProtID)\n",
    "        fasta = read_fasta_file(url)\n",
    "        for key in fasta:\n",
    "            positions = find_indices_of_matches(fasta[key], N_glycosylation_motif)\n",
    "            l=len(positions)\n",
    "            if l > 0:\n",
    "                print(uniProtID)\n",
    "                print(' '.join([str(pos) for pos in positions]))\n",
    "print('rosalind_mprt.txt')\n"
   ]
  },
  {
   "cell_type": "markdown",
   "metadata": {},
   "source": [
    "# 3.orf"
   ]
  },
  {
   "cell_type": "code",
   "execution_count": null,
   "metadata": {},
   "outputs": [],
   "source": [
    "from Bio import SeqIO\n",
    "from Bio.Seq import translate\n",
    "\n",
    "dna = \"AGCCATGTAGCTAACTCAGGTTACATGGGGATGACCCCGCGACTTGGATTAGAGTCTCTTTTGGAATAAGCCTGAATGATCCGAGTAGCATCTCAG\"\n",
    "\n",
    "table = \"\"\"TTT F      CTT L      ATT I      GTT V\n",
    "TTC F      CTC L      ATC I      GTC V\n",
    "TTA L      CTA L      ATA I      GTA V\n",
    "TTG L      CTG L      ATG M      GTG V\n",
    "TCT S      CCT P      ACT T      GCT A\n",
    "TCC S      CCC P      ACC T      GCC A\n",
    "TCA S      CCA P      ACA T      GCA A\n",
    "TCG S      CCG P      ACG T      GCG A\n",
    "TAT Y      CAT H      AAT N      GAT D\n",
    "TAC Y      CAC H      AAC N      GAC D\n",
    "TAA Stop   CAA Q      AAA K      GAA E\n",
    "TAG Stop   CAG Q      AAG K      GAG E\n",
    "TGT C      CGT R      AGT S      GGT G\n",
    "TGC C      CGC R      AGC S      GGC G\n",
    "TGA Stop   CGA R      AGA R      GGA G\n",
    "TGG W      CGG R      AGG R      GGG G\"\"\"\n",
    "\n",
    "table = dict(zip(table.split()[::2],table.split()[1::2]))\n",
    "\n",
    "c, b, d, liste, final =  \"\", \"\", \"\", [], []\n",
    "BASES = {'A' : 'T', 'T' : 'A', 'C':'G', 'G':'C'}\n",
    "stops = ['TAA','TAG','TGA']\n",
    "#get the reverse and complementary of the given dna \n",
    "def reverse_complement(s):\n",
    "\n",
    "    return  ''.join([BASES.get(nucleotide, nucleotide) for nucleotide in s[::-1]])\n",
    "for items in SeqIO.parse(\"rosalind_orf.txt\", \"fasta\"):\n",
    "    a = (items.seq).reverse_complement()\n",
    "    dna += items.seq\n",
    "    b += a\n",
    "l = len(dna)\n",
    "for i in range(0, l):\n",
    "    if str(c[i : (i + 3)]) == \"ATG\":\n",
    "        liste.append(dna[i:])\n",
    "    if str(b[i : (i + 3)]) == \"ATG\":\n",
    "        liste.append(b[i:])\n",
    "\n",
    "aa = []\n",
    "for items in liste:\n",
    "    if \"*\" in items.translate(table = 1):\n",
    "        d = items.translate(table = 1, to_stop = True)\n",
    "        if  str(items.translate(table = 1, to_stop = True)) not in final:\n",
    "            final.append(str(d))\n",
    "    \n",
    "for items in final:\n",
    "    print(items)"
   ]
  },
  {
   "cell_type": "markdown",
   "metadata": {},
   "source": [
    "# 4.splc"
   ]
  },
  {
   "cell_type": "code",
   "execution_count": 7,
   "metadata": {},
   "outputs": [],
   "source": [
    "from Bio import SeqIO\n",
    "from Bio.Seq import Seq\n",
    "\n",
    "codonTable = {\"UUU\": \"F\", \"UUC\": \"F\", \"UUA\": \"L\", \"UUG\": \"L\",\n",
    "          \"UCU\": \"S\", \"UCC\": \"S\", \"UCA\": \"S\", \"UCG\": \"S\",\n",
    "          \"UAU\": \"Y\", \"UAC\": \"Y\", \"UGU\": \"C\", \"UGC\": \"C\", \n",
    "          \"UGG\": \"W\", \"CUU\": \"L\", \n",
    "          \"CUC\": \"L\", \"CUA\": \"L\", \"CUG\": \"L\", \"CCU\": \"P\", \n",
    "          \"CCC\": \"P\", \"CCA\": \"P\", \"CCG\": \"P\", \"CAU\": \"H\", \n",
    "          \"CAC\": \"H\", \"CAA\": \"Q\", \"CAG\": \"Q\", \"CGU\": \"R\", \n",
    "          \"CGC\": \"R\", \"CGA\": \"R\", \"CGG\": \"R\", \"AGA\": \"R\", \n",
    "          \"AGG\": \"R\", \"AUU\": \"I\", \"AUC\": \"I\", \"AUA\": \"I\",\n",
    "          \"AUG\": \"M\", \"ACU\": \"T\", \"ACC\": \"T\", \"ACA\": \"T\", \n",
    "          \"ACG\": \"T\", \"AAU\": \"N\", \"AAC\": \"N\", \"AAA\": \"K\", \n",
    "          \"AAG\": \"K\", \"AGU\": \"S\", \"AGC\": \"S\", \"GUU\": \"V\", \n",
    "          \"GUC\": \"V\", \"GUA\": \"V\", \"GUG\": \"V\", \"GCU\": \"A\", \n",
    "          \"GCC\": \"A\", \"GCA\": \"A\", \"GCG\": \"A\", \"GAU\": \"D\", \n",
    "          \"GAC\": \"D\", \"GAA\": \"E\", \"GAG\": \"E\", \"GGU\": \"G\", \n",
    "          \"GGC\": \"G\", \"GGA\": \"G\", \"GGG\": \"G\",\n",
    "          \"UAA\": \"-stop-\", \"UAG\": \"-stop-\", \"UGA\": \"-stop-\"}\n",
    "\n",
    "seqs = SeqIO.parse('rosalind_splc.txt',\"fasta\")\n",
    "exons = [x.seq for x in seqs]\n",
    "\n",
    "for count, seq_record in enumerate(seqs):\n",
    "    if count == 0:\n",
    "        general_seq = str(seq_record.seq)\n",
    "        \n",
    "    else:\n",
    "         premRNA = premRNA.replace(str(seq_record.seq), \"\")\n",
    "         general_seq.transcribe()\n",
    "         Sequencesss = Seq(premRNA).translate(to_stop=True)\n",
    "         print(Sequencesss)"
   ]
  },
  {
   "cell_type": "markdown",
   "metadata": {},
   "source": [
    "# 5.pmch"
   ]
  },
  {
   "cell_type": "code",
   "execution_count": null,
   "metadata": {},
   "outputs": [],
   "source": [
    "import math\n",
    "from math import factorial                 \n",
    "\n",
    "with open(\"rosalind_pmch.txt\") as file:\n",
    "    str = file.readlines()[1]\n",
    "           \n",
    "gc =str.count(\"G\")\n",
    "au = str.count(\"A\")\n",
    "\n",
    "print(factorial(gc) * factorial(au))"
   ]
  },
  {
   "cell_type": "markdown",
   "metadata": {},
   "source": [
    "# 6.pper"
   ]
  },
  {
   "cell_type": "code",
   "execution_count": null,
   "metadata": {},
   "outputs": [],
   "source": [
    "import math\n",
    "from math import factorial\n",
    "\n",
    "n= 99\n",
    "k= 8\n",
    "b = math.factorial(n)\n",
    "a = math.factorial(n)\n",
    "res1 = (a/b) \n",
    "result= res1 % 1000000\n",
    "print(result)\n"
   ]
  },
  {
   "cell_type": "markdown",
   "metadata": {},
   "source": [
    "# 7.tree"
   ]
  },
  {
   "cell_type": "markdown",
   "metadata": {},
   "source": [
    "-for this exercise I was writing a long and too complicated code, then i found this easy solution that made so much more sense to me, so I decided to use it as it helped me to understand the code very clearly"
   ]
  },
  {
   "cell_type": "code",
   "execution_count": 6,
   "metadata": {},
   "outputs": [
    {
     "name": "stdout",
     "output_type": "stream",
     "text": [
      "12\n"
     ]
    }
   ],
   "source": [
    "#1 n-1-m\n",
    "f = open(\"rosalind_tree.txt\",\"r\")\n",
    "lns = f.read().split()\n",
    "adjacent = lns[1:]\n",
    "nr_edges = int( ( len( lns ) - 1 ) / 2 )\n",
    "totalNodes = int(lns[0])\n",
    "print( totalNodes-1 - nr_edges)\n"
   ]
  },
  {
   "cell_type": "markdown",
   "metadata": {},
   "source": [
    "# 8. long \n"
   ]
  },
  {
   "cell_type": "code",
   "execution_count": null,
   "metadata": {},
   "outputs": [],
   "source": [
    "seq = \"\"\"\n",
    "ATTAGACCTG\n",
    "GCCGGAATAC\n",
    "CCTGCCGGAA\n",
    "AGACCTGCCG\n",
    "\"\"\".split()\n",
    "def revcomp(s):\n",
    "    return s.translate('ACTG','TGAC')[::-1]\n",
    "    \n",
    "def overlaps(a,b):\n",
    "    ln = min(len(a), len(b))\n",
    "    a_l = len(a)\n",
    "    b_l= len(b)\n",
    "    for i in range(ln,int(min(a_l, b_l)/2),-1):\n",
    "        if a[-i:] == b[:i]:\n",
    "            return a + b[i:]\n",
    "        elif b[-i:] == a[:i]:\n",
    "            return b + a[i:]\n",
    "\n",
    "while (len(seq)>1):\n",
    "    a = (float('inf'),'','')\n",
    "    for j in seq[1:]:\n",
    "        tmp = overlaps(seq[0],j)\n",
    "        \n",
    "        if tmp and (len(tmp) < a[0]):\n",
    "                a = (len(tmp),tmp,j)\n",
    "\n",
    "    seq[0] = a[1]\n",
    "    seq.pop(seq.index(a[2]))\n",
    "\n",
    "print(*seq)"
   ]
  },
  {
   "cell_type": "markdown",
   "metadata": {},
   "source": [
    "# 9.sseq"
   ]
  },
  {
   "cell_type": "code",
   "execution_count": null,
   "metadata": {},
   "outputs": [],
   "source": [
    "f = open('rosalind_sseq.txt').readlines()\n",
    "s = list(f[0].strip())\n",
    "t = list(f[1].strip())\n",
    "result = []\n",
    "C = 0\n",
    "for i in t:\n",
    "    l=len(s)\n",
    "    for j in range(C, l):\n",
    "        if s[j] == i:\n",
    "            result.append(j + 1)\n",
    "            C = j + 1\n",
    "print (' '.join(str(x) for x in result))\n"
   ]
  },
  {
   "cell_type": "markdown",
   "metadata": {},
   "source": [
    "# 10.tran"
   ]
  },
  {
   "cell_type": "code",
   "execution_count": null,
   "metadata": {},
   "outputs": [],
   "source": [
    "from Bio import SeqIO\n",
    "\n",
    "transition = [('A', 'G'), ('T', 'C'), ('C', 'T'), ('G', 'A')]\n",
    "transversions = [('A', 'T'), ('A', 'C'), ('T', 'A'), ('T', 'G'), ('C', 'A'), ('C', 'G'), ('G', 'T'), ('G', 'C')]\n",
    "\n",
    "seqs = [] \n",
    "with open(\"rosalind_tran.txt\", \"r\") as handle:\n",
    "    for record in SeqIO.parse(handle, \"fasta\"):\n",
    "        seqs.append(str(record.seq))\n",
    "s1, s2 = seqs\n",
    "transitions = ['AG','CT']\n",
    "trans,transv = 0,0\n",
    "l=len(s1)\n",
    "for i in range(l):\n",
    "    for j in transitions:\n",
    "        if s1[i] in j and s1[i] != s2[i] and s2[i] in j:\n",
    "            trans += 1\n",
    "        if s1[i] in j and s1[i] != s2[i] and s2[i] not in j:\n",
    "            transv += 1\n",
    "print(trans/transv)"
   ]
  }
 ],
 "metadata": {
  "kernelspec": {
   "display_name": "Python 3.9.7 ('base')",
   "language": "python",
   "name": "python3"
  },
  "language_info": {
   "codemirror_mode": {
    "name": "ipython",
    "version": 3
   },
   "file_extension": ".py",
   "mimetype": "text/x-python",
   "name": "python",
   "nbconvert_exporter": "python",
   "pygments_lexer": "ipython3",
   "version": "3.9.7"
  },
  "orig_nbformat": 4,
  "vscode": {
   "interpreter": {
    "hash": "5160fc0297c10a87899e409c00e407bc9cd0d02692e9af8a35716bf90520312a"
   }
  }
 },
 "nbformat": 4,
 "nbformat_minor": 2
}
